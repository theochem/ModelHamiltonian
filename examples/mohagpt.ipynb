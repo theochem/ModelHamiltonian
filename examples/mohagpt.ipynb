{
 "cells": [
  {
   "cell_type": "code",
   "execution_count": null,
   "metadata": {},
   "outputs": [],
   "source": [
    "from moha.gpt import generate_ham\n",
    "\n",
    "prompt = \"Build a Heisenberg model with J-ax = 1, J_eq = 5. \\\n",
    "        Ther is external magnetic field mu = 10. There are 10 electrons in spatial basis. Assume periodic boundary conditions. Assume 4-fold symmetry.\\\n",
    "        Do not save file.\"\n",
    "ham = generate_ham(prompt)"
   ]
  }
 ],
 "metadata": {
  "kernelspec": {
   "display_name": "Python 3",
   "language": "python",
   "name": "python3"
  },
  "language_info": {
   "name": "python",
   "version": "3.11.5"
  }
 },
 "nbformat": 4,
 "nbformat_minor": 2
}
