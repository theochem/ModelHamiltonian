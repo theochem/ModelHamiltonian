{
 "cells": [
  {
   "cell_type": "markdown",
   "metadata": {},
   "source": [
    "# Testing Ising model"
   ]
  },
  {
   "cell_type": "code",
   "execution_count": 2,
   "metadata": {},
   "outputs": [],
   "source": [
    "import numpy as np\n",
    "# import matplotlib.pyplot as plt\n",
    "from pyscf import fci"
   ]
  },
  {
   "cell_type": "markdown",
   "metadata": {},
   "source": [
    "## Building XXX Heisenberg model"
   ]
  },
  {
   "cell_type": "code",
   "execution_count": 50,
   "metadata": {},
   "outputs": [
    {
     "name": "stdout",
     "output_type": "stream",
     "text": [
      "FCI energy for 2:  -1.2782119259115534 ; error:  -0.8350647453516081\n",
      "FCI energy for 4:  -0.5629897290600718 ; error:  -0.11984254850012654\n",
      "FCI energy for 6:  -0.546112176636998 ; error:  -0.10296499607705267\n"
     ]
    }
   ],
   "source": [
    "def generate_inds(value, p, q, r, s):\n",
    "    \"\"\"\n",
    "    Generate all the indices for the 4 different terms in the 2-body hamiltonian\n",
    "    \"\"\"\n",
    "    res = []\n",
    "    res.append((value, p, q, r, s))\n",
    "    res.append((value, r, s, p, q))\n",
    "    # res.append((-value, p, s, r, q))\n",
    "    # res.append((-value, r, q, p, s))\n",
    "\n",
    "    res.append((value, p, q, s, r))\n",
    "    res.append((value, q, p, r, s))\n",
    "    res.append((value, q, p, s, r))\n",
    "\n",
    "    # permutation symmetries\n",
    "    res.append((value, s, r, p, q))\n",
    "    res.append((value, r, s, q, p))\n",
    "    res.append((value, s, r, q, p))\n",
    "\n",
    "\n",
    "    return res\n",
    "\n",
    "for n_sites in range(2, 8, 2):\n",
    "\n",
    "    J_xy = 1\n",
    "    J_z = 1\n",
    "    h = np.zeros((2*n_sites, 2*n_sites))\n",
    "    v = np.zeros((2*n_sites, 2*n_sites, 2*n_sites, 2*n_sites))\n",
    "\n",
    "    for i in range(n_sites):\n",
    "        j = i+1\n",
    "        if j == n_sites:\n",
    "            j = 0\n",
    "\n",
    "        h[i, i] += -J_z/4\n",
    "        h[j, j] += -J_z/4 \n",
    "        h[i+n_sites, i+n_sites] += -J_z/4\n",
    "        h[j+n_sites, j+n_sites] += -J_z/4\n",
    "\n",
    "    # populating 2body terms\n",
    "        \n",
    "    for i in range(n_sites):\n",
    "        j = i+1\n",
    "        if j == n_sites:\n",
    "            j = 0\n",
    "\n",
    "        values = generate_inds(J_z/4, j, j, i, i)\n",
    "        for value, p, q, r, s in values:\n",
    "            v[p, q, r, s] += value\n",
    "        \n",
    "\n",
    "        values = generate_inds(J_z/4, j, j, i+n_sites, i+n_sites)\n",
    "        for value, p, q, r, s in values:\n",
    "            v[p, q, r, s] += value\n",
    "    \n",
    "        values = generate_inds(J_z/4, j+n_sites, j+n_sites, i, i)\n",
    "        for value, p, q, r, s in values:\n",
    "            v[p, q, r, s] += value\n",
    "\n",
    "        values = generate_inds(J_z/4, j+n_sites, j+n_sites, i+n_sites, i+n_sites)\n",
    "        for value, p, q, r, s in values:\n",
    "            v[p, q, r, s] += value\n",
    "\n",
    "        values = generate_inds(J_xy/2, j, i, j+n_sites, i+n_sites)\n",
    "        for value, p, q, r, s in values:\n",
    "            v[p, q, r, s] += value\n",
    "\n",
    "        values = generate_inds(J_xy/2, i, j, i+n_sites, j+n_sites)\n",
    "        for value, p, q, r, s in values:\n",
    "            v[p, q, r, s] += value\n",
    "\n",
    "\n",
    "    e_0 = J_z/4*n_sites\n",
    "\n",
    "    # solve fullci problem\n",
    "    e, fcivec = fci.direct_spin0.kernel(1*h, 1*v, 2*n_sites, 2*n_sites, nroots=1,\n",
    "                                        max_memory=10000)\n",
    "    e_exact = 0.25-np.log(2)\n",
    "    print(f\"FCI energy for {n_sites}: \", (e+e_0)/(2*n_sites), \"; error: \", (e+e_0)/(2*n_sites)-e_exact)"
   ]
  },
  {
   "cell_type": "code",
   "execution_count": 13,
   "metadata": {},
   "outputs": [
    {
     "name": "stdout",
     "output_type": "stream",
     "text": [
      "Ground state energy: -0.43684286095118124\n"
     ]
    }
   ],
   "source": [
    "import numpy as np\n",
    "from scipy.linalg import eigh\n",
    "\n",
    "# Define Pauli spin matrices\n",
    "sigma_x = np.array([[0, 1], [1, 0]])\n",
    "sigma_y = np.array([[0, -1j], [1j, 0]])\n",
    "sigma_z = np.array([[1, 0], [0, -1]])\n",
    "I = np.array([[1, 0], [0, 1]])\n",
    "\n",
    "# Define function for Kronecker product with identity\n",
    "def kron_id(matrix, N, L):\n",
    "  \"\"\"\n",
    "  Creates Kronecker product of matrix with identity matrices.\n",
    "\n",
    "  Args:\n",
    "      matrix: The matrix for Kronecker product.\n",
    "      N: Number of identity matrices before the matrix.\n",
    "      L: Number of sites.\n",
    "\n",
    "  Returns:\n",
    "      A Kronecker product of the matrix with identity matrices.\n",
    "  \"\"\"\n",
    "  result = matrix\n",
    "  for _ in range(N):\n",
    "    result = np.kron(I, result)\n",
    "\n",
    "  for _ in range(L-N-1):\n",
    "    result = np.kron(result, I)\n",
    "  return 1/2*result\n",
    "\n",
    "# Define function to create spin operators on Nth site\n",
    "def spin_operator(operator, N, L):\n",
    "  \"\"\"\n",
    "  Creates a spin operator (Sx, Sy, Sz) on the Nth site.\n",
    "\n",
    "  Args:\n",
    "      operator: The Pauli spin matrix (sigma_x, sigma_y, sigma_z).\n",
    "      N: The site index for the spin operator.\n",
    "      L: Total number of sites.\n",
    "\n",
    "  Returns:\n",
    "      A Kronecker product representing the spin operator on Nth site.\n",
    "  \"\"\"\n",
    "  return kron_id(operator, N, L)\n",
    "\n",
    "# Define system size (number of sites)\n",
    "L = 6 # Change this for different system size\n",
    "\n",
    "# Create spin operators on each site\n",
    "Sx = [spin_operator(sigma_x, i, L) for i in range(L)]\n",
    "Sy = [spin_operator(sigma_y, i, L) for i in range(L)]\n",
    "Sz = [spin_operator(sigma_z, i, L) for i in range(L)]\n",
    "\n",
    "# Define Hamiltonian (only nearest-neighbor interaction for simplicity)\n",
    "J = 1  # Coupling constant\n",
    "delta = 0.8\n",
    "H = 0\n",
    "for i in range(L):\n",
    "    j = i+1\n",
    "    if j == L:\n",
    "        j = 0\n",
    "    H += J * (Sx[i] @ Sx[j] + Sy[i] @ Sy[j] + delta*Sz[i] @ Sz[j])\n",
    "\n",
    "# Convert symbolic Hamiltonian to numpy array\n",
    "H_array = np.array(H, dtype=complex)\n",
    "\n",
    "# Calculate eigenvalues and ground state\n",
    "eigenvalues, eigenvectors = eigh(H_array)\n",
    "\n",
    "# Print ground state energy (lowest eigenvalue)\n",
    "print(f\"Ground state energy: {eigenvalues[0]/L}\")"
   ]
  },
  {
   "cell_type": "code",
   "execution_count": 47,
   "metadata": {},
   "outputs": [
    {
     "data": {
      "text/plain": [
       "array([[0. , 0. , 0.5, 0. , 0. , 0. , 0. , 0. ],\n",
       "       [0. , 0. , 0. , 0.5, 0. , 0. , 0. , 0. ],\n",
       "       [0.5, 0. , 0. , 0. , 0. , 0. , 0. , 0. ],\n",
       "       [0. , 0.5, 0. , 0. , 0. , 0. , 0. , 0. ],\n",
       "       [0. , 0. , 0. , 0. , 0. , 0. , 0.5, 0. ],\n",
       "       [0. , 0. , 0. , 0. , 0. , 0. , 0. , 0.5],\n",
       "       [0. , 0. , 0. , 0. , 0.5, 0. , 0. , 0. ],\n",
       "       [0. , 0. , 0. , 0. , 0. , 0.5, 0. , 0. ]])"
      ]
     },
     "execution_count": 47,
     "metadata": {},
     "output_type": "execute_result"
    }
   ],
   "source": [
    "Sx[1]"
   ]
  },
  {
   "cell_type": "code",
   "execution_count": 43,
   "metadata": {},
   "outputs": [
    {
     "data": {
      "text/plain": [
       "array([[0, 1, 0, 0],\n",
       "       [1, 0, 0, 0],\n",
       "       [0, 0, 0, 1],\n",
       "       [0, 0, 1, 0]])"
      ]
     },
     "execution_count": 43,
     "metadata": {},
     "output_type": "execute_result"
    }
   ],
   "source": [
    "np.kron(I, sigma_x)"
   ]
  },
  {
   "cell_type": "code",
   "execution_count": 9,
   "metadata": {},
   "outputs": [
    {
     "data": {
      "text/plain": [
       "<matplotlib.collections.PathCollection at 0x7fc378d09220>"
      ]
     },
     "execution_count": 9,
     "metadata": {},
     "output_type": "execute_result"
    },
    {
     "data": {
      "image/png": "[encoded data removed]",
      "text/plain": [
       "<Figure size 432x288 with 1 Axes>"
      ]
     },
     "metadata": {
      "needs_background": "light"
     },
     "output_type": "display_data"
    }
   ],
   "source": [
    "import numpy as np\n",
    "import matplotlib.pyplot as plt\n",
    "\n",
    "fci_energies = [-0.8266059629557765, -0.46899486453003214, -0.4605560883183338, -0.4600550476827342]\n",
    "fci_energies_array = np.array(fci_energies)\n",
    "\n",
    "e_exact = 0.25-np.log(2)\n",
    "plt.scatter(np.arange(2, 10, 2), fci_energies_array, label='FCI')"
   ]
  },
  {
   "cell_type": "code",
   "execution_count": 13,
   "metadata": {},
   "outputs": [
    {
     "data": {
      "image/png": "[encoded data removed]",
      "text/plain": [
       "<Figure size 432x288 with 1 Axes>"
      ]
     },
     "metadata": {
      "needs_background": "light"
     },
     "output_type": "display_data"
    }
   ],
   "source": [
    "errors = [-0.3834587823958312, -0.025847683970086854, -0.017408907758388492]\n",
    "errors_array = np.abs(np.array(errors))\n",
    "plt.scatter(np.arange(2, 8, 2), errors_array, label='Error')\n",
    "plt.axhline(y=0, color='r', linestyle='--')\n",
    "plt.yscale('log')\n",
    "plt.show()"
   ]
  },
  {
   "cell_type": "code",
   "execution_count": 84,
   "metadata": {},
   "outputs": [
    {
     "name": "stdout",
     "output_type": "stream",
     "text": [
      "FCI energy for 2:  -0.4999999999999998 ; error:  -0.05685281944005449\n",
      "FCI energy for 4:  -0.4999999999999991 ; error:  -0.056852819440053826\n",
      "FCI energy for 6:  -0.46712927295533246 ; error:  -0.023982092395387178\n"
     ]
    }
   ],
   "source": [
    "def generate_inds(value, p, q, r, s):\n",
    "    \"\"\"\n",
    "    Generate all the indices for the 4 different terms in the 2-body hamiltonian\n",
    "    \"\"\"\n",
    "    res = []\n",
    "    res.append((value, p, q, r, s))\n",
    "    res.append((value, r, s, p, q))\n",
    "    # res.append((-value, p, s, r, q))\n",
    "    # res.append((-value, r, q, p, s))\n",
    "\n",
    "    res.append((value, p, q, s, r))\n",
    "    res.append((value, q, p, r, s))\n",
    "    res.append((value, q, p, s, r))\n",
    "\n",
    "    # permutation symmetries\n",
    "    res.append((value, s, r, p, q))\n",
    "    res.append((value, r, s, q, p))\n",
    "    res.append((value, s, r, q, p))\n",
    "\n",
    "\n",
    "    return res\n",
    "\n",
    "for n_sites in range(2, 8, 2):\n",
    "\n",
    "    J_xy = 1\n",
    "    J_z = 1\n",
    "    h = np.zeros((n_sites, n_sites))\n",
    "    v = np.zeros((n_sites, n_sites, n_sites, n_sites))\n",
    "\n",
    "    for i in range(n_sites):\n",
    "        j = i+1\n",
    "        if j == n_sites:\n",
    "            j = 0\n",
    "\n",
    "        h[i, i] = -J_z/2\n",
    "\n",
    "    # populating 2body terms \n",
    "    for i in range(n_sites):\n",
    "        j = i+1\n",
    "        if j == n_sites:\n",
    "            j = 0\n",
    "\n",
    "        v[j, j, i, i] = J_z/4\n",
    "        v[i, i, j, j] = J_z/4\n",
    "        \n",
    "        v[j, i, j, i] = J_xy/2\n",
    "        v[i, j, i, j] = J_xy/2\n",
    "\n",
    "        #new terms\n",
    "        # v[j, i, i, j] = J_xy/2\n",
    "        # v[i, j, j, i] = J_xy/2\n",
    "\n",
    "\n",
    "    e_0 = J_z/4*n_sites\n",
    "\n",
    "    # solve fullci problem\n",
    "    e, fcivec = fci.direct_spin0.kernel(1*h, 1*v, n_sites, n_sites, nroots=1,\n",
    "                                        max_memory=10000, pspace_size=20000)\n",
    "    e_exact = 0.25-np.log(2)\n",
    "    print(f\"FCI energy for {n_sites}: \", (e+e_0)/(n_sites), \"; error: \", (e+e_0)/(n_sites)-e_exact)"
   ]
  },
  {
   "cell_type": "code",
   "execution_count": 85,
   "metadata": {},
   "outputs": [
    {
     "name": "stdout",
     "output_type": "stream",
     "text": [
      "FCI energy:  -0.46712927295533246\n"
     ]
    }
   ],
   "source": [
    "from scipy.sparse import diags\n",
    "# building the hamiltonian using matrices\n",
    "N_sites = 6\n",
    "J_ax = diags([np.ones(N_sites-1),\n",
    "              np.ones(N_sites-1)], [-1, 1], format='lil')\n",
    "J_ax[0, -1] = J_ax[-1, 0] = 1\n",
    "J_ax = J_ax.toarray()/2 # dividing by 2 to enforce sum_q {J_pq} = J_z\n",
    "mu = np.zeros(N_sites)\n",
    "\n",
    "J_eq = J_ax.copy()\n",
    "\n",
    "\n",
    "h0 = 0.25*np.sum(J_ax) - 0.5*np.sum(mu-np.diag(J_eq))\n",
    "h1 = np.zeros((N_sites, N_sites))\n",
    "for p in range(N_sites):\n",
    "    h1[p, p] = 0.5*(mu[p]-np.sum(J_ax[p, :]))\n",
    "\n",
    "h2 = np.zeros((N_sites, N_sites, N_sites, N_sites))\n",
    "for p in range(N_sites):\n",
    "    for q in range(N_sites):\n",
    "        h2[p, q, p, q] = J_eq[p, q] * 2 #summing over spin. In here we don't have aaaa and bbbb parts: only aabb and bbaa\n",
    "        h2[p, p, q, q] = 0.25*J_ax[p, q] * 4 # summing over spin\n",
    "\n",
    "# solve the fullci problem\n",
    "e_final, fcivec_final = fci.direct_spin0.kernel(h1,0.5*h2, N_sites, N_sites, nroots=1, max_memory=10000)\n",
    "print (\"FCI energy: \", (e_final+h0)/N_sites)\n",
    "\n"
   ]
  },
  {
   "cell_type": "code",
   "execution_count": 70,
   "metadata": {},
   "outputs": [
    {
     "data": {
      "text/plain": [
       "0.0"
      ]
     },
     "execution_count": 70,
     "metadata": {},
     "output_type": "execute_result"
    }
   ],
   "source": [
    "np.sum(v-h2/2)"
   ]
  },
  {
   "cell_type": "code",
   "execution_count": 26,
   "metadata": {},
   "outputs": [
    {
     "data": {
      "text/plain": [
       "array([1., 1., 1., 1., 1., 1.])"
      ]
     },
     "execution_count": 26,
     "metadata": {},
     "output_type": "execute_result"
    }
   ],
   "source": [
    "np.ones(N_sites)\n"
   ]
  }
 ],
 "metadata": {
  "kernelspec": {
   "display_name": "base",
   "language": "python",
   "name": "python3"
  },
  "language_info": {
   "codemirror_mode": {
    "name": "ipython",
    "version": 3
   },
   "file_extension": ".py",
   "mimetype": "text/x-python",
   "name": "python",
   "nbconvert_exporter": "python",
   "pygments_lexer": "ipython3",
   "version": "3.9.7"
  }
 },
 "nbformat": 4,
 "nbformat_minor": 2
}
