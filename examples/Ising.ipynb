{
 "cells": [
  {
   "cell_type": "markdown",
   "metadata": {},
   "source": [
    "# Tutorial: Spin-based Hamiltonians \n",
    "\n",
    "## Introduction\n",
    "The Model Hamiltonian Package is a software tool designed to generate 0, 1, and 2 electron integrals for various quantum models. In this tutorial, we'll focus on generating integrals for the Heisenberg model, specifically the XXZ Heisenberg model.\n",
    "\n",
    "## XXZ Heisenberg Model\n",
    "The XXZ Heisenberg model is a one-dimensional quantum model that describes the interaction between spins on a lattice. The Hamiltonian for the XXZ Heisenberg model is given by:\n",
    "$$\n",
    "\\hat{H}_{X X Z}=\\sum_p\\left(\\mu_p^Z-J_{p p}^{\\mathrm{eq}}\\right) S_p^Z+\\sum_{p \\neq q} J_{p q}^{\\mathrm{ax}} S_p^Z S_q^Z+\\sum_{p \\neq q} J_{p q}^{\\mathrm{eq}} S_p^{+} S_q^{-}\n",
    "$$\n",
    "where $S_p^Z$ is the $z$ component of the spin operator at site $p$, $S_p^{+}$ and $S_p^{-}$ are the spin raising and lowering operators at site $p$, $\\mu_p^Z$ is the magnetic field at site $p$, , $J_{p q}^{\\mathrm{ax}}$ is the axial exchange coupling between spins at site $p$ and $q$, and $J_{p q}^{\\mathrm{eq}}$ is the equatorial exchange coupling between spins at site $p$ and $q$."
   ]
  },
  {
   "cell_type": "markdown",
   "metadata": {},
   "source": [
    "## Defining Heisenberg Model\n",
    "There are two ways to define the Heisenberg model using the Model Hamiltonian Package:\n",
    "1. Using the connectivity of the lattice and providing the exchange couplingg, $J^{ax}$ $J^{eq}$ , and $\\mu$ as a float numbers;\n",
    "2. Providing exchange couplings, $J^{ax}$ $J^{eq}$ , and $\\mu$ explicitly as numpy arrays;\n"
   ]
  },
  {
   "cell_type": "code",
   "execution_count": 1,
   "metadata": {},
   "outputs": [],
   "source": [
    "# import libraries\n",
    "import numpy as np\n",
    "from moha import HamHeisenberg\n",
    "\n",
    "# Defining the Hamiltonian using connectivity matrix\n",
    "# For example, consider 6x6 lattice with periodic boundary condition\n",
    "\n",
    "# Define the connectivity matrix\n",
    "connectivity = np.array([[0, 1, 0, 0, 0, 1],\n",
    "                          [1, 0, 1, 0, 0, 0],\n",
    "                          [0, 1, 0, 1, 0, 0],\n",
    "                          [0, 0, 1, 0, 1, 0],\n",
    "                          [0, 0, 0, 1, 0, 1],\n",
    "                          [1, 0, 0, 0, 1, 0]])\n",
    "\n",
    "# Define the Hamiltonian parameters\n",
    "J_eq = 1\n",
    "J_ax = 0.5\n",
    "mu = 0\n",
    "\n",
    "# Define the Hamiltonian\n",
    "ham = HamHeisenberg(connectivity=connectivity, J_eq=J_eq, J_ax=J_ax, mu=mu)"
   ]
  },
  {
   "cell_type": "code",
   "execution_count": 2,
   "metadata": {},
   "outputs": [],
   "source": [
    "# Second choice: Define the Hamiltonian \n",
    "# by providing exchange couplings, $J^{ax}$ $J^{eq}$ , and $\\mu$ as numpy arrays\n",
    "\n",
    "# For example, consider 4x4 lattice with periodic boundary condition\n",
    "J_eq = np.array([[0, 1, 0, 1],\n",
    "                 [1, 0, 1, 0],\n",
    "                 [0, 1, 0, 1],\n",
    "                 [1, 0, 1, 0]])\n",
    "J_ax = np.array([[0, 0.5, 0, 0.5],\n",
    "                [0.5, 0, 0.5, 0],\n",
    "                [0, 0.5, 0, 0.5],\n",
    "                [0.5, 0, 0.5, 0]])\n",
    "mu = np.zeros(4)\n",
    "\n",
    "# Define the Hamiltonian\n",
    "ham = HamHeisenberg(J_eq=J_eq, J_ax=J_ax, mu=mu)"
   ]
  },
  {
   "cell_type": "markdown",
   "metadata": {},
   "source": [
    "## Generating Integrals\n",
    "The Model Hamiltonian Package can generate 0, 1, and 2 electron integrals for the XXZ Heisenberg model. The integrals are stored in a sparse matrix format, and can be used to solve the Schrödinger equation for the model.\n",
    "Specifically, the integrals support the following operations:\n",
    "1. Get the 0, 1, and 2 electron integrals for the XXZ Heisenberg model;\n",
    "2. Return intergrals in the form of a sparse or dense matrix;\n",
    "3. Return integrals in a spin orbital or spatial basis; \n",
    "\n",
    "   __Note__ : Assumption is alpha and beta spinorbitals are the same;\n",
    "4. Support 1-, 2-, and 4 - fold symmetry such as:\n",
    "\n",
    "    a. 1-fold symmetry: no symmetry;\n",
    "    \n",
    "    b. 2-fold symmetry: $$g_{ij,kl} = g_{kl,ij}$$\n",
    "    c. 4-fold symmetry: $$g_{ij,kl} = g_{kl,ij} = g_{ji,lk} = g_{lk,ji} $$"
   ]
  },
  {
   "cell_type": "code",
   "execution_count": 3,
   "metadata": {},
   "outputs": [
    {
     "name": "stdout",
     "output_type": "stream",
     "text": [
      "Zero energy:  0.5\n",
      "One body integrals in spatial basis: \n",
      " [[-0.25  0.    0.    0.  ]\n",
      " [ 0.   -0.25  0.    0.  ]\n",
      " [ 0.    0.   -0.25  0.  ]\n",
      " [ 0.    0.    0.   -0.25]]\n",
      "Shape of two body integral in spatial basis:  (4, 4, 4, 4)\n",
      "------------------------------------------------------------\n",
      "One body integrals in spin basis: \n",
      " [[-0.25  0.    0.    0.    0.    0.    0.    0.  ]\n",
      " [ 0.   -0.25  0.    0.    0.    0.    0.    0.  ]\n",
      " [ 0.    0.   -0.25  0.    0.    0.    0.    0.  ]\n",
      " [ 0.    0.    0.   -0.25  0.    0.    0.    0.  ]\n",
      " [ 0.    0.    0.    0.   -0.25  0.    0.    0.  ]\n",
      " [ 0.    0.    0.    0.    0.   -0.25  0.    0.  ]\n",
      " [ 0.    0.    0.    0.    0.    0.   -0.25  0.  ]\n",
      " [ 0.    0.    0.    0.    0.    0.    0.   -0.25]]\n",
      "Shape of two body integral in spinorbital basis:  (8, 8, 8, 8)\n"
     ]
    },
    {
     "name": "stderr",
     "output_type": "stream",
     "text": [
      "/opt/anaconda3/lib/python3.9/site-packages/scipy/sparse/_index.py:100: SparseEfficiencyWarning: Changing the sparsity structure of a csr_matrix is expensive. lil_matrix is more efficient.\n",
      "  self._set_intXint(row, col, x.flat[0])\n"
     ]
    }
   ],
   "source": [
    "# Example: generating XXZ Heisenberg model \n",
    "# Returning electron integrals in a spatial orbital basis\n",
    "# Assuming 4-fold symmetry\n",
    "# Returning output as dense matrix\n",
    "\n",
    "e0 = ham.generate_zero_body_integral()\n",
    "h1 = ham.generate_one_body_integral(dense=True, basis='spatial basis') \n",
    "h2 = ham.generate_two_body_integral(dense=True, basis='spatial basis', sym=4)\n",
    "\n",
    "print(\"Zero energy: \", e0)\n",
    "print(\"One body integrals in spatial basis: \\n\", h1)\n",
    "print(\"Shape of two body integral in spatial basis: \", h2.shape)\n",
    "print(\"-\"*60)\n",
    "\n",
    "# Example: generating XXZ Heisenberg model in spin orbital basis\n",
    "# Assuming 4-fold symmetry\n",
    "# Returning output as dense matrix\n",
    "\n",
    "h1 = ham.generate_one_body_integral(dense=True, basis='spinorbital basis')\n",
    "h2 = ham.generate_two_body_integral(dense=True, basis='spinorbital basis', sym=4)\n",
    "\n",
    "print(\"One body integrals in spin basis: \\n\", h1)\n",
    "print(\"Shape of two body integral in spinorbital basis: \", h2.shape)"
   ]
  },
  {
   "cell_type": "markdown",
   "metadata": {},
   "source": [
    "# Testing XXZ Heisenberg model\n",
    "\n",
    "To test the ouput of the ModelHamiltoian package, we can solve the Schrödinger equation using Full CI algorithm for the XXZ Heisenberg model using the generated integrals. \n",
    "\n",
    "To do this, we will use `pyscf` package.\n",
    "\n",
    "We can compare results with the explicit constraction of the hamiltonian matrix using pauli matrices. \n",
    "The explicit construction of the hamiltonian matrix is given by:\n",
    "$$\n",
    "\\mathcal{H}_{X X Z}=\\sum_{m=0}^{L-1}\\left\\{J^{eq}\\left(S_x^{(m)} S_x^{(m+1)}+S_y^{(m)} S_y^{(m+1)}\\right)+ J^{ax} S_z^{(m)} S_z^{(m+1)}\\right\\}\n",
    "$$\n",
    "\n",
    "\n",
    "To construct spin operators on the site $m$, we can use the following relation:\n",
    "\n",
    "$$\n",
    "S_i^{(m)} \\equiv \\frac{1}{2} \\overbrace{\\mathbb{1}_{2 \\times 2} \\otimes \\ldots \\otimes \\mathbb{1}_{2 \\times 2}}^m \\otimes \\sigma_i \\otimes \\overbrace{\\mathbb{1}_{2 \\times 2} \\otimes \\ldots \\otimes \\mathbb{1}_{2 \\times 2}}^{L-m-1} .\n",
    "$$\n",
    "Where $\\sigma_i$ is the Pauli matrix $\\forall i \\epsilon \\{x, y, z\\}$.\n",
    "To find the spectrum of the constructed hamiltonian matrix, we can use `numpy` package."
   ]
  },
  {
   "cell_type": "code",
   "execution_count": 4,
   "metadata": {},
   "outputs": [
    {
     "name": "stdout",
     "output_type": "stream",
     "text": [
      "Ground state energy per electron: -0.35649726389842357\n"
     ]
    }
   ],
   "source": [
    "# Constructing the XXZ Hamiltonian explicitly\n",
    "from numpy.linalg import eigh\n",
    "\n",
    "# Define Pauli spin matrices\n",
    "sigma_x = np.array([[0, 1], [1, 0]])\n",
    "sigma_y = np.array([[0, -1j], [1j, 0]])\n",
    "sigma_z = np.array([[1, 0], [0, -1]])\n",
    "I = np.array([[1, 0], [0, 1]])\n",
    "\n",
    "# Define function for Kronecker product with identity\n",
    "def kron_id(matrix, N, L):\n",
    "  \"\"\"\n",
    "  Creates Kronecker product of matrix with identity matrices.\n",
    "\n",
    "  Args:\n",
    "      matrix: The matrix for Kronecker product.\n",
    "      N: Number of identity matrices before the matrix.\n",
    "      L: Number of sites.\n",
    "\n",
    "  Returns:\n",
    "      A Kronecker product of the matrix with identity matrices.\n",
    "  \"\"\"\n",
    "  result = matrix\n",
    "  for _ in range(N):\n",
    "    result = np.kron(I, result)\n",
    "\n",
    "  for _ in range(L-N-1):\n",
    "    result = np.kron(result, I)\n",
    "  return 1/2*result\n",
    "\n",
    "# Define function to create spin operators on Nth site\n",
    "def spin_operator(operator, N, L):\n",
    "  \"\"\"\n",
    "  Creates a spin operator (Sx, Sy, Sz) on the Nth site.\n",
    "\n",
    "  Args:\n",
    "      operator: The Pauli spin matrix (sigma_x, sigma_y, sigma_z).\n",
    "      N: The site index for the spin operator.\n",
    "      L: Total number of sites.\n",
    "\n",
    "  Returns:\n",
    "      A Kronecker product representing the spin operator on Nth site.\n",
    "  \"\"\"\n",
    "  return kron_id(operator, N, L)\n",
    "\n",
    "# Define system size (number of sites)\n",
    "L = 6 # Change this for different system size\n",
    "\n",
    "# Create spin operators on each site\n",
    "Sx = [spin_operator(sigma_x, i, L) for i in range(L)]\n",
    "Sy = [spin_operator(sigma_y, i, L) for i in range(L)]\n",
    "Sz = [spin_operator(sigma_z, i, L) for i in range(L)]\n",
    "\n",
    "# Define Hamiltonian (only nearest-neighbor interaction for simplicity)\n",
    "J_eq = 1  # Coupling constant\n",
    "J_ax = 0.2\n",
    "H = 0\n",
    "for i in range(L):\n",
    "    j = i+1\n",
    "    if j == L:\n",
    "        j = 0\n",
    "    H += J_eq * (Sx[i] @ Sx[j] + Sy[i] @ Sy[j]) + J_ax*(Sz[i] @ Sz[j])\n",
    "\n",
    "# Convert explicit Hamiltonian to numpy array\n",
    "H_array = np.array(H, dtype=complex)\n",
    "\n",
    "# Calculate eigenvalues and ground state\n",
    "eigenvalues, eigenvectors = eigh(H_array)\n",
    "\n",
    "# Print ground state energy (lowest eigenvalue)\n",
    "print(f\"Ground state energy per electron: {eigenvalues[0]/L}\")"
   ]
  },
  {
   "cell_type": "code",
   "execution_count": 5,
   "metadata": {},
   "outputs": [
    {
     "name": "stdout",
     "output_type": "stream",
     "text": [
      "Ground state energy per electron: -0.35649726389842346\n"
     ]
    },
    {
     "name": "stderr",
     "output_type": "stream",
     "text": [
      "/opt/anaconda3/lib/python3.9/site-packages/scipy/sparse/_index.py:100: SparseEfficiencyWarning: Changing the sparsity structure of a csr_matrix is expensive. lil_matrix is more efficient.\n",
      "  self._set_intXint(row, col, x.flat[0])\n"
     ]
    }
   ],
   "source": [
    "from pyscf import fci\n",
    "\n",
    "# Constructing the XXZ Hamiltonian using the HamHeisenberg class\n",
    "\n",
    "# Define the Hamiltonian parameters\n",
    "connectivity = np.zeros((L, L))\n",
    "connectivity[np.arange(L-1), np.arange(L-1)+1] = 1\n",
    "connectivity[0, -1] = 1\n",
    "connectivity += connectivity.T\n",
    "\n",
    "# Define the Hamiltonian\n",
    "ham = HamHeisenberg(connectivity=connectivity, J_eq=1, J_ax=0.2, mu=0)\n",
    "e0 = ham.generate_zero_body_integral()\n",
    "h1 = ham.generate_one_body_integral(dense=True, basis='spatial basis')\n",
    "h2 = ham.generate_two_body_integral(dense=True, basis='spatial basis', sym=4)\n",
    "\n",
    "# convert h2 to chemists notation\n",
    "h2_ch = np.transpose(h2, (0, 2, 1, 3))\n",
    "\n",
    "# Calculate eigenvalues and ground state\n",
    "e, ci = fci.direct_spin0.kernel(h1, h2_ch, L, L)\n",
    "print(f\"Ground state energy per electron: {(e+e0)/L}\")"
   ]
  },
  {
   "cell_type": "markdown",
   "metadata": {},
   "source": [
    "## Testing XXX Heisenberg model\n",
    "\n",
    "[It can be shown](https://studenttheses.uu.nl/bitstream/handle/20.500.12932/36243/thesis%20Kuijper.pdf?sequence=1&isAllowed=y) that for one dimensional XXX Heisenberg model (when $J^{eq} = J^{ax} = J$), the energy of the ground state per site in the thermodynamic limit is equal to\n",
    "$$\n",
    "E_0 = -|J|\\left(0.25 - \\ln2\\right)\n",
    "$$\n",
    "In this part we will constuct 4, 6, and 8 site XXX Heisenberg model for $J = 1$ and compare the energy of the ground state per site with the theoretical value."
   ]
  },
  {
   "cell_type": "code",
   "execution_count": 12,
   "metadata": {},
   "outputs": [
    {
     "name": "stderr",
     "output_type": "stream",
     "text": [
      "/opt/anaconda3/lib/python3.9/site-packages/scipy/sparse/_index.py:100: SparseEfficiencyWarning: Changing the sparsity structure of a csr_matrix is expensive. lil_matrix is more efficient.\n",
      "  self._set_intXint(row, col, x.flat[0])\n"
     ]
    },
    {
     "data": {
      "image/png": "[encoded data removed]",
      "text/plain": [
       "<Figure size 864x432 with 2 Axes>"
      ]
     },
     "metadata": {
      "needs_background": "light"
     },
     "output_type": "display_data"
    }
   ],
   "source": [
    "from matplotlib import pyplot as plt\n",
    "e_inf = 0.25 - np.log(2)\n",
    "\n",
    "# create figure with 2 plots side by side\n",
    "fig, ax = plt.subplots(1, 2, figsize=(12, 6))\n",
    "\n",
    "for L in range(4, 10, 2):\n",
    "    # Define the connectivity matrix\n",
    "    connectivity = np.zeros((L, L))\n",
    "    connectivity[np.arange(L-1), np.arange(L-1)+1] = 1\n",
    "    connectivity[0, -1] = 1\n",
    "    connectivity += connectivity.T\n",
    "\n",
    "    # Define the Hamiltonian\n",
    "    ham = HamHeisenberg(connectivity=connectivity, J_eq=1, J_ax=1, mu=0)\n",
    "    e0 = ham.generate_zero_body_integral()\n",
    "    h1 = ham.generate_one_body_integral(dense=True, basis='spatial basis')\n",
    "    h2 = ham.generate_two_body_integral(dense=True, basis='spatial basis', sym=4)\n",
    "\n",
    "    # convert h2 to chemists notation\n",
    "    h2_ch = np.transpose(h2, (0, 2, 1, 3))\n",
    "\n",
    "    # Calculate eigenvalues and ground state\n",
    "    e, ci = fci.direct_spin0.kernel(h1, h2_ch, L, L, max_memory=10000, pspace_size=20000)\n",
    "    e_per_e = (e+e0)/L\n",
    "    error = e_inf - e_per_e\n",
    "    ax[0].plot(L, e_per_e, 'bo')\n",
    "    ax[1].plot(L, error, 'bo')\n",
    "\n",
    "# plot the thermodynamic limit\n",
    "ax[0].axhline(y=e_inf, color='k', linestyle='--', label='Thermodynamic limit')\n",
    "\n",
    "ax[0].set_xlabel('System size')\n",
    "ax[0].set_ylabel('Ground state energy per electron')\n",
    "ax[0].set_title('Ground state energy per electron vs system size')\n",
    "# show legend\n",
    "ax[0].legend()\n",
    "\n",
    "ax[1].set_xlabel('System size')\n",
    "ax[1].set_ylabel('Error')\n",
    "ax[1].set_title('Error vs system size')\n",
    "\n",
    "# set log scale for y axis on the second plot\n",
    "ax[1].set_yscale('log')\n",
    "\n",
    "plt.tight_layout()\n",
    "plt.show()"
   ]
  }
 ],
 "metadata": {
  "kernelspec": {
   "display_name": "base",
   "language": "python",
   "name": "python3"
  },
  "language_info": {
   "codemirror_mode": {
    "name": "ipython",
    "version": 3
   },
   "file_extension": ".py",
   "mimetype": "text/x-python",
   "name": "python",
   "nbconvert_exporter": "python",
   "pygments_lexer": "ipython3",
   "version": "3.9.7"
  }
 },
 "nbformat": 4,
 "nbformat_minor": 2
}
