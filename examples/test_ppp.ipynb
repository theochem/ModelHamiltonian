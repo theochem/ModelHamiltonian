{
 "cells": [
  {
   "cell_type": "code",
   "execution_count": 1,
   "id": "7ab9af6f",
   "metadata": {},
   "outputs": [],
   "source": [
    "import sys\n",
    "sys.path.append('..')\n",
    "import numpy as np"
   ]
  },
  {
   "cell_type": "code",
   "execution_count": 2,
   "id": "255a0736",
   "metadata": {},
   "outputs": [],
   "source": [
    "### Gamma value generator for benzene\n",
    "def generate_gamma(norb=6, b=1.4, gamma0=10.84): \n",
    "    ang_to_bohr = 1.889726\n",
    "    har_to_ev = 27.211396\n",
    "    b_ieV = b*ang_to_bohr/har_to_ev\n",
    "\n",
    "    gamma = np.zeros((norb,norb))\n",
    "    for u in range(norb):\n",
    "        for v in range(norb):\n",
    "            duv = b*(np.sin(abs(u-v)*np.pi/norb)/np.sin(np.pi/norb))\n",
    "            gamma[(u,v)] = 1/(1/gamma0 + duv)\n",
    "\n",
    "    return gamma "
   ]
  },
  {
   "cell_type": "code",
   "execution_count": 3,
   "id": "4efd7bf7",
   "metadata": {},
   "outputs": [
    {
     "name": "stdout",
     "output_type": "stream",
     "text": [
      "h0=\n",
      " 39.962 \n",
      "\n",
      "h1=\n",
      " [[-13.321  -2.5     0.      0.      0.     -2.5  ]\n",
      " [ -2.5   -13.321  -2.5     0.      0.      0.   ]\n",
      " [  0.     -2.5   -13.321  -2.5     0.      0.   ]\n",
      " [  0.      0.     -2.5   -13.321  -2.5     0.   ]\n",
      " [  0.      0.      0.     -2.5   -13.321  -2.5  ]\n",
      " [ -2.5     0.      0.      0.     -2.5   -13.321]] \n",
      "\n",
      "h2=\n",
      " [[5.42  0.335 0.199 0.173 0.199 0.335]\n",
      " [0.335 5.42  0.335 0.199 0.173 0.199]\n",
      " [0.199 0.335 5.42  0.335 0.199 0.173]\n",
      " [0.173 0.199 0.335 5.42  0.335 0.199]\n",
      " [0.199 0.173 0.199 0.335 5.42  0.335]\n",
      " [0.335 0.199 0.173 0.199 0.335 5.42 ]] \n",
      "\n"
     ]
    }
   ],
   "source": [
    "### Building polyene integral arrays\n",
    "norb = 6\n",
    "\n",
    "gamma = generate_gamma()\n",
    "\n",
    "h1 = np.zeros([norb,norb])\n",
    "for n in range(norb):\n",
    "    h1[(n,(n+1)%norb)] = -2.5\n",
    "h1 = h1 + h1.T\n",
    "\n",
    "h0 = 0\n",
    "h2 = np.zeros((norb,norb,norb,norb))\n",
    "H2 = np.zeros([norb,norb])\n",
    "for n in range(norb):\n",
    "    h1[(n,n)] -= np.sum(gamma[n,:])\n",
    "    for m in range(norb):\n",
    "        h2[(n,n,m,m)] = 0.5*gamma[(n,m)]\n",
    "        H2[n,m] = h2[(n,n,m,m)]\n",
    "        h0 += 0.5*gamma[(n,m)]\n",
    "\n",
    "np.set_printoptions(precision=3)\n",
    "print('h0=\\n',\"%0.3f\" % h0,'\\n')        \n",
    "print('h1=\\n',h1,'\\n')\n",
    "print('h2=\\n',H2,'\\n')"
   ]
  },
  {
   "cell_type": "code",
   "execution_count": 6,
   "id": "328c14b4",
   "metadata": {},
   "outputs": [],
   "source": [
    "from moha import HamPPP\n",
    "\n",
    "norb = 6\n",
    "nelec = 3\n",
    "\n",
    "beta = -2.5\n",
    "gamma0 = gamma[0,0]\n",
    "\n",
    "gamma = generate_gamma(norb)\n",
    "polyene = HamPPP([(f\"C{i}\", f\"C{i + 1}\", 1) for i in range(1, norb)] + [(f\"C{norb}\", f\"C{1}\", 1)],\n",
    "                      alpha=0, beta=beta, gamma=gamma, charges=np.ones(6),\n",
    "                      u_onsite=np.array([gamma0 for i in range(norb + 1)]))\n",
    "\n",
    "h1 = polyene.generate_one_body_integral(dense=True, basis='spatial basis')\n",
    "h2 = polyene.generate_two_body_integral(dense=False, basis='spatial basis')"
   ]
  },
  {
   "cell_type": "code",
   "execution_count": 7,
   "id": "1473fd47",
   "metadata": {},
   "outputs": [
    {
     "name": "stdout",
     "output_type": "stream",
     "text": [
      "h1=\n",
      " [[-13.321  -2.5     0.      0.      0.     -2.5  ]\n",
      " [ -2.5   -13.321  -2.5     0.      0.      0.   ]\n",
      " [  0.     -2.5   -13.321  -2.5     0.      0.   ]\n",
      " [  0.      0.     -2.5   -13.321  -2.5     0.   ]\n",
      " [  0.      0.      0.     -2.5   -13.321  -2.5  ]\n",
      " [ -2.5     0.      0.      0.     -2.5   -13.321]] \n",
      "\n",
      "h2=\n",
      "   (0, 0)\t10.84\n",
      "  (1, 1)\t0.3350642927794263\n",
      "  (2, 2)\t0.1986395532084328\n",
      "  (3, 3)\t0.1728757336055116\n",
      "  (4, 4)\t0.1986395532084328\n",
      "  (5, 5)\t0.3350642927794263\n",
      "  (7, 7)\t10.84\n",
      "  (8, 8)\t0.3350642927794263\n",
      "  (9, 9)\t0.1986395532084328\n",
      "  (10, 10)\t0.1728757336055116\n",
      "  (11, 11)\t0.1986395532084328\n",
      "  (14, 14)\t10.84\n",
      "  (15, 15)\t0.3350642927794263\n",
      "  (16, 16)\t0.1986395532084328\n",
      "  (17, 17)\t0.1728757336055116\n",
      "  (21, 21)\t10.84\n",
      "  (22, 22)\t0.3350642927794263\n",
      "  (23, 23)\t0.1986395532084328\n",
      "  (28, 28)\t10.84\n",
      "  (29, 29)\t0.3350642927794263\n",
      "  (35, 35)\t10.84 \n",
      "\n"
     ]
    }
   ],
   "source": [
    "print('h1=\\n',h1,'\\n')\n",
    "print('h2=\\n',h2,'\\n')"
   ]
  }
 ],
 "metadata": {
  "kernelspec": {
   "display_name": "Python 3",
   "language": "python",
   "name": "python3"
  },
  "language_info": {
   "codemirror_mode": {
    "name": "ipython",
    "version": 3
   },
   "file_extension": ".py",
   "mimetype": "text/x-python",
   "name": "python",
   "nbconvert_exporter": "python",
   "pygments_lexer": "ipython3",
   "version": "3.7.1"
  }
 },
 "nbformat": 4,
 "nbformat_minor": 5
}
