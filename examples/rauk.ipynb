{
 "cells": [
  {
   "cell_type": "markdown",
   "metadata": {},
   "source": [
    "# Rauk's table and Wolfsberrg-Helmholz approximation\n",
    "\n",
    "\n",
    "## Introduction\n",
    "\n",
    "So far the Hamiltonians treated by the documentation have been focused in carbon chains. With this new update it is possible to work with different atoms, using the Rauk's table or the distance beetween the atoms with the Wolfsberrg-Helmholz aproximation.\n",
    "\n",
    "To generate a Hamiltonian with atoms different from carbon, simply apply the same logic as before: Define a list of tuples with the atoms indexed by the position of their respective site in the compound. The new module of the library has two main purposes:\n",
    "\n",
    "1) If you define the system using atoms different from carbons and the connectivity as ``integer`` numbers, the program will assign to the one body term the $\\alpha$ and $\\beta$ precomputed based on the Rauk's table.\n",
    "\n",
    "2) If you define the system using atoms different from carbons and the connectivity as `float` numbers, the program will assign to the one body term the $\\alpha$ and $\\beta$ computed using the Wolfsberrg-Helmholz approximation, based on the provided distance.\n",
    "\n"
   ]
  },
  {
   "cell_type": "markdown",
   "metadata": {},
   "source": [
    "## Example: Rauk's table\n",
    "\n",
    "Suppose that you want to define a Hubbard model assigning the values based on the Rauk's table (RAUK, 2001). The calculations of $\\alpha$ and $\\beta$ were made based on Simple Hückel Molecular Orbital Theory(SHMO), following the following equations, for the atoms X, Y:\n",
    "\n",
    "$$\n",
    "\\alpha_X = \\alpha h_x|\\beta| \n",
    "$$\n",
    "$$\n",
    "b_{XY} =  \\kappa_{XY}|\\beta|\n",
    "$$\n",
    "\n",
    "‌\n",
    "\n",
    "You can do this based on the example below. \n",
    "\n",
    "\n"
   ]
  },
  {
   "cell_type": "code",
   "execution_count": 1,
   "metadata": {},
   "outputs": [
    {
     "name": "stdout",
     "output_type": "stream",
     "text": [
      "[[-0.414    -0.033046  0.       -0.039975]\n",
      " [-0.033046 -0.492884 -0.027183  0.      ]\n",
      " [ 0.       -0.027183 -0.558443 -0.009061]\n",
      " [-0.039975  0.       -0.009061 -0.414   ]]\n"
     ]
    }
   ],
   "source": [
    "import sys  \n",
    "sys.path.insert(0, '../')\n",
    "import numpy as np\n",
    "from moha import HamHub\n",
    "\n",
    "# Define the molecular system as a list of tuples.\n",
    "# The format is ('Atom1', 'Atom2', bond_order).\n",
    "# Here, 'Atom1' and 'Atom2' are the atomic symbols of the atoms involved in the bond.\n",
    "# 'bond_order' is the order of the bond between the atoms.\n",
    "# For example, ('C1', 'Cl2', 1) represents a single bond between a carbon atom and a chlorine atom.\n",
    "system = [('C1', 'Cl2', 1), ('Cl2', 'F3', 1), ('F3', 'Si4', 1), ('Si4', 'C1', 1)]\n",
    "\n",
    "# Create an instance of the HamHub class, which represents the Hamiltonian for the system.\n",
    "# Here, 'u_onsite' is an array specifying the on-site interaction energies for the atoms.\n",
    "# The length of 'u_onsite' should match the number of distinct atoms in the system.\n",
    "hubbard = HamHub(system, u_onsite=np.array([1, 1]))\n",
    "\n",
    "# Generate the one-body integral matrix in the specified basis.\n",
    "# 'dense=True' indicates that the integral matrix should be returned in a dense format.\n",
    "# 'basis' specifies the type of basis to use, here it's 'spatial basis'.\n",
    "print(hubbard.generate_one_body_integral(dense=True, basis='spatial basis'))\n"
   ]
  },
  {
   "cell_type": "markdown",
   "metadata": {},
   "source": [
    "## Example:  Wolfsberrg-Helmholz approximation\n",
    "\n",
    "Suppose now that you want to define the same system, but computing the parameters based on the overlap distance beetween the neighbors atoms. You can do that using the example below.\n",
    "\n",
    "The values of $\\alpha$ and $\\beta$ are computed based on the following formulas:\n",
    "\n",
    "\n",
    "$$\n",
    "\\alpha_X = -(\\text{ionization potential of atom X})\n",
    "$$\n",
    "\n",
    "The $\\beta$ value for the interaction between atom X and atom Y is defined as:\n",
    "\n",
    "$$\n",
    "\\beta_{XY} = 1.75 S_{XY} \\frac{\\alpha_X + \\alpha_Y}{2}\n",
    "$$\n",
    "\n"
   ]
  },
  {
   "cell_type": "code",
   "execution_count": 2,
   "metadata": {},
   "outputs": [
    {
     "name": "stdout",
     "output_type": "stream",
     "text": [
      "[[-0.41380839 -0.73648465  0.         -0.56689357]\n",
      " [-0.73648465 -0.47655051 -0.81351185  0.        ]\n",
      " [ 0.         -0.81351185 -0.64027609 -0.60447297]\n",
      " [-0.56689357  0.         -0.60447297 -0.29956945]]\n"
     ]
    }
   ],
   "source": [
    "import sys  \n",
    "sys.path.insert(0, '../')\n",
    "import numpy as np\n",
    "from moha import HamHub\n",
    "\n",
    "# Define the molecular system as a list of tuples.\n",
    "# Each tuple represents a bond between two atoms, the bond length, and the bond type.\n",
    "# The bond length is a float value representing the distance between the atoms.\n",
    "# The bond type can be either 'sigma' or 'pi'.\n",
    "# For example, ('C1', 'Cl2', 1.5, 'pi') represents a pi bond between a carbon atom and a chlorine atom.\n",
    "system = [\n",
    "    ('C1', 'Cl2', 1.5, 'pi'), \n",
    "    ('Cl2', 'F3', 1.8, 'sigma'),\n",
    "    ('F3', 'Si4', 1.8, 'sigma'), \n",
    "    ('Si4', 'C1', 1.7, 'sigma')\n",
    "]\n",
    "\n",
    "# As before, create an instance of the HamHub class, which represents the Hamiltonian for the system.\n",
    "hubbard = HamHub(system, u_onsite=np.array([1, 1]))\n",
    "\n",
    "# Generate the one-body integral matrix in the specified basis.\n",
    "# 'dense=True' indicates that the integral matrix should be returned in a dense format.\n",
    "# 'basis' specifies the type of basis to use, here it's 'spatial basis'.\n",
    "print(hubbard.generate_one_body_integral(dense=True, basis='spatial basis'))\n"
   ]
  },
  {
   "cell_type": "markdown",
   "metadata": {},
   "source": [
    "# Example: Usage with molecules \n",
    "\n",
    "If you want to make a chain using molecules you can use the following structure: pass the atom $X_n$ in the position m, the tuple would have the following form `Xm(n)`. Below it's possible to see a example of this of the molecule $N_2OP_2$. "
   ]
  },
  {
   "cell_type": "code",
   "execution_count": 3,
   "metadata": {},
   "outputs": [
    {
     "name": "stdout",
     "output_type": "stream",
     "text": [
      "[[-0.441183 -0.060762 -0.041574]\n",
      " [-0.060762 -0.465701 -0.039975]\n",
      " [-0.041574 -0.039975 -0.424127]]\n"
     ]
    }
   ],
   "source": [
    "from moha import HamHuck\n",
    "\n",
    "# Define the molecular system with tuples in the format\n",
    "# ('Atomposition(index)', 'Neighboorposition(index)', 'bond_order').\n",
    "# Each tuple represents a bond between atoms at specified positions.\n",
    "system =[('N1(2)', 'O2(1)', 1),\n",
    "         ('O2(1)', 'P3(2)', 1),\n",
    "         ('P3(2)', 'N1(2)', 1)]\n",
    "\n",
    "# Create an instance of HamHuck with the defined system.\n",
    "N2_O1_P2 = HamHuck(system)\n",
    "\n",
    "# Generate the one-body integral matrix in the 'spatial basis'.\n",
    "h1 = N2_O1_P2.generate_one_body_integral(dense=True, basis='spatial basis')\n",
    "\n",
    "# Print the one-body integral matrix.\n",
    "print(h1)"
   ]
  },
  {
   "cell_type": "markdown",
   "metadata": {},
   "source": [
    "## Example: Defining Your Own Dictionaries\n",
    "\n",
    "Instead of using Rauk's Table or the Wolfsberg-Helmholz approximation, you can define your own dictionaries for $\\alpha$ and $\\beta$ values. These dictionaries specify the interaction parameters for each atom and bond in your system.\n",
    "\n",
    "To do this, pass the dictionaries to the Hamiltonian classes with the following structure:\n",
    "\n",
    "1. `atom_dictionary = {'atom1': alpha1, 'atom2': alpha2}`\n",
    "2. `bond_dictionary = {'atom1,atom2': beta}`\n"
   ]
  },
  {
   "cell_type": "code",
   "execution_count": 4,
   "metadata": {},
   "outputs": [
    {
     "name": "stdout",
     "output_type": "stream",
     "text": [
      "[[1. 0. 0. 3.]\n",
      " [0. 2. 1. 0.]\n",
      " [0. 1. 3. 2.]\n",
      " [3. 0. 2. 4.]]\n"
     ]
    }
   ],
   "source": [
    "import sys  \n",
    "sys.path.insert(0, '../')\n",
    "import numpy as np\n",
    "from moha import HamHub\n",
    "\n",
    "# Define the Hamiltonian for a molecular system using the HamHub class.\n",
    "\n",
    "# The system is a list of tuples, where each tuple represents a bond between two atoms.\n",
    "# The format of each tuple is ('Atom1', 'Atom2', bond_order).\n",
    "# For this example, we define single bonds between different atoms.\n",
    "system = [\n",
    "    ('C1', 'Cl2', 1),  # Bond between C1 and Cl2\n",
    "    ('Cl2', 'F3', 1),  # Bond between Cl2 and F3\n",
    "    ('F3', 'Si4', 1),  # Bond between F3 and Si4\n",
    "    ('Si4', 'C1', 1)   # Bond between Si4 and C1\n",
    "]\n",
    "\n",
    "# Create an instance of the HamHub class, which represents the Hamiltonian for the system.\n",
    "# 'u_onsite' is an array specifying the on-site interaction energies for the atoms.\n",
    "# 'atom_dictionary' maps atom symbols to unique identifiers.\n",
    "# 'bond_dictionary' maps bond pairs to unique identifiers.\n",
    "hubbard = HamHub(system, u_onsite=np.array([1, 1]), \n",
    "                 atom_dictionary={'C': 1, 'Cl': 2, 'F': 3, 'Si': 4},\n",
    "                 bond_dictionary={'C,Cl': 0, 'Cl,F': 1, 'F,Si': 2, 'Si,C': 3})\n",
    "\n",
    "# Generate the one-body integral matrix in the specified basis.\n",
    "# 'dense=True' indicates that the integral matrix should be returned in a dense format.\n",
    "# 'basis' specifies the type of basis to use, here it's 'spatial basis'.\n",
    "print(hubbard.generate_one_body_integral(dense=True, basis='spatial basis'))\n"
   ]
  },
  {
   "cell_type": "markdown",
   "metadata": {},
   "source": [
    "## Example: Second Body Terms - Pariser-Parr Module\n",
    "\n",
    "The software is highly flexible in generating the two-body terms.\n",
    "\n",
    "If the user does not provide `u_onsite` or `affinity_dct`, the potentials are computed using the following formula: $ U_x = \\alpha_x - A_x $.\n",
    "\n",
    "If `orbital_overlap`is not provided, the values of `u_onsite`, either provided or computed, are used to calculate the potential between two sites:\n",
    "\n",
    "$$\n",
    "\\overline{U}_{XY} = \\frac{1}{2}(U_X + U_Y)\n",
    "$$\n",
    "\n",
    "If the value of `gamma` is not provided, it is computed using the formula:\n",
    "\n",
    "$$\n",
    "\\gamma_{XY} = \\frac{\\overline{U}_{XY}}{\\overline{U}_{XY} R_{XY} + e^{-\\frac{1}{2} \\overline{U}_{XY}^2 R_{XY}^2}}\n",
    "$$"
   ]
  },
  {
   "cell_type": "code",
   "execution_count": 5,
   "metadata": {},
   "outputs": [
    {
     "name": "stdout",
     "output_type": "stream",
     "text": [
      "Zero energy:  0\n",
      "One body integrals in spatial basis: \n",
      " [[-0.41380839 -0.77906404  0.          0.        ]\n",
      " [-0.77906404 -0.47655051 -2.93166983  0.        ]\n",
      " [ 0.         -2.93166983 -0.64027609 -3.28945939]\n",
      " [ 0.          0.         -3.28945939 -0.29956945]]\n",
      "Shape of two body integral in spatial basis:  (4, 4, 4, 4)\n",
      "------------------------------------------------------------\n",
      "One body integrals in spinorbital basis: \n",
      " [[-0.41380839 -0.77906404  0.          0.          0.          0.\n",
      "   0.          0.        ]\n",
      " [-0.77906404 -0.47655051 -2.93166983  0.          0.          0.\n",
      "   0.          0.        ]\n",
      " [ 0.         -2.93166983 -0.64027609 -3.28945939  0.          0.\n",
      "   0.          0.        ]\n",
      " [ 0.          0.         -3.28945939 -0.29956945  0.          0.\n",
      "   0.          0.        ]\n",
      " [ 0.          0.          0.          0.         -0.41380839 -0.77906404\n",
      "   0.          0.        ]\n",
      " [ 0.          0.          0.          0.         -0.77906404 -0.47655051\n",
      "  -2.93166983  0.        ]\n",
      " [ 0.          0.          0.          0.          0.         -2.93166983\n",
      "  -0.64027609 -3.28945939]\n",
      " [ 0.          0.          0.          0.          0.          0.\n",
      "  -3.28945939 -0.29956945]]\n",
      "Shape of two body integral in spinorbital basis:  (8, 8, 8, 8)\n"
     ]
    }
   ],
   "source": [
    "import sys  \n",
    "sys.path.insert(0, '../')\n",
    "import numpy as np\n",
    "from moha import HamHub\n",
    "\n",
    "# Example: Generating XXZ Heisenberg model \n",
    "# Returning electron integrals in a spatial orbital basis\n",
    "# Assuming 4-fold symmetry\n",
    "# Returning output as dense matrix\n",
    "\n",
    "# Define the molecular system with tuples in the format ('Atom1', 'Atom2', bond_length).\n",
    "# The system represents bonds between atoms with specified bond lengths.\n",
    "system = [\n",
    "    ('C1', 'Cl2', 1.1),  # Bond between C1 and Cl2 with bond length 1.1\n",
    "    ('Cl2', 'F3', 1.0),  # Bond between Cl2 and F3 with bond length 1.0\n",
    "    ('F3', 'Si4', 1.0),  # Bond between F3 and Si4 with bond length 1.0\n",
    "    ('Si4', 'C1', 1.0)   # Bond between Si4 and C1 with bond length 1.0\n",
    "]\n",
    "\n",
    "# Create an instance of the HamHub class with the defined system.\n",
    "# u_onsite specifies the on-site interaction energies for the atoms.\n",
    "# orbital_overlap specifies the overlap integrals between orbitals.\n",
    "# So the gamma will be computed based on orbital_overlap.\n",
    "ham = HamHub(system, u_onsite=np.array([1, 1, 1, 1]),\n",
    "                 orbital_overlap=np.array([[0, 1, 0, 0],[0, 0, 3, 0], [0, 0, 0, 4], [0, 0, 0, 1]]))\n",
    "\n",
    "# Generate the zero-body integral.\n",
    "e0 = ham.generate_zero_body_integral()\n",
    "\n",
    "# Generate the one-body integral matrix in the spatial orbital basis.\n",
    "h1 = ham.generate_one_body_integral(dense=True, basis='spatial basis')\n",
    "\n",
    "# Generate the two-body integral tensor in the spatial orbital basis, assuming 4-fold symmetry.\n",
    "h2 = ham.generate_two_body_integral(dense=True, basis='spatial basis', sym=4)\n",
    "\n",
    "print(\"Zero energy: \", e0)\n",
    "print(\"One body integrals in spatial basis: \\n\", h1)\n",
    "print(\"Shape of two body integral in spatial basis: \", h2.shape)\n",
    "print(\"-\" * 60)\n",
    "\n",
    "# Example: Generating XXZ Heisenberg model in spin orbital basis\n",
    "# Assuming 4-fold symmetry\n",
    "# Returning output as dense matrix\n",
    "\n",
    "# Generate the one-body integral matrix in the spin orbital basis.\n",
    "h1 = ham.generate_one_body_integral(dense=True, basis='spinorbital basis')\n",
    "\n",
    "# Generate the two-body integral tensor in the spin orbital basis, assuming 4-fold symmetry.\n",
    "h2 = ham.generate_two_body_integral(dense=True, basis='spinorbital basis', sym=4)\n",
    "\n",
    "print(\"One body integrals in spinorbital basis: \\n\", h1)\n",
    "print(\"Shape of two body integral in spinorbital basis: \", h2.shape)\n"
   ]
  },
  {
   "cell_type": "code",
   "execution_count": 6,
   "metadata": {},
   "outputs": [
    {
     "name": "stdout",
     "output_type": "stream",
     "text": [
      "Zero energy:  0\n",
      "One body integrals in spatial basis: \n",
      " [[ 0. -1.  0.  0.  0. -1.]\n",
      " [-1.  0. -1.  0.  0.  0.]\n",
      " [ 0. -1.  0. -1.  0.  0.]\n",
      " [ 0.  0. -1.  0. -1.  0.]\n",
      " [ 0.  0.  0. -1.  0. -1.]\n",
      " [-1.  0.  0.  0. -1.  0.]]\n",
      "Shape of two body integral in spatial basis:  (6, 6, 6, 6)\n",
      "------------------------------------------------------------\n",
      "One body integrals in spinorbital basis: \n",
      " [[ 0. -1.  0.  0.  0. -1.  0.  0.  0.  0.  0.  0.]\n",
      " [-1.  0. -1.  0.  0.  0.  0.  0.  0.  0.  0.  0.]\n",
      " [ 0. -1.  0. -1.  0.  0.  0.  0.  0.  0.  0.  0.]\n",
      " [ 0.  0. -1.  0. -1.  0.  0.  0.  0.  0.  0.  0.]\n",
      " [ 0.  0.  0. -1.  0. -1.  0.  0.  0.  0.  0.  0.]\n",
      " [-1.  0.  0.  0. -1.  0.  0.  0.  0.  0.  0.  0.]\n",
      " [ 0.  0.  0.  0.  0.  0.  0. -1.  0.  0.  0. -1.]\n",
      " [ 0.  0.  0.  0.  0.  0. -1.  0. -1.  0.  0.  0.]\n",
      " [ 0.  0.  0.  0.  0.  0.  0. -1.  0. -1.  0.  0.]\n",
      " [ 0.  0.  0.  0.  0.  0.  0.  0. -1.  0. -1.  0.]\n",
      " [ 0.  0.  0.  0.  0.  0.  0.  0.  0. -1.  0. -1.]\n",
      " [ 0.  0.  0.  0.  0.  0. -1.  0.  0.  0. -1.  0.]]\n",
      "Shape of two body integral in spinorbital basis:  (12, 12, 12, 12)\n"
     ]
    }
   ],
   "source": [
    "import sys\n",
    "sys.path.insert(0, '../')\n",
    "import numpy as np\n",
    "from moha import HamHub\n",
    "\n",
    "# Example: Generating 6-site Hubbard model \n",
    "# Returning electron integrals in a spatial orbital basis\n",
    "# Assuming 8-fold symmetry\n",
    "# Returning output as dense matrix\n",
    "\n",
    "# Define the connectivity matrix for the 6-site Hubbard model.\n",
    "# Each entry in the matrix indicates the connection between sites.\n",
    "connectivity = np.array([\n",
    "    [0, 1, 0, 0, 0, 1],  \n",
    "    [1, 0, 1, 0, 0, 0],  \n",
    "    [0, 1, 0, 1, 0, 0],  \n",
    "    [0, 0, 1, 0, 1, 0],  \n",
    "    [0, 0, 0, 1, 0, 1],  \n",
    "    [1, 0, 0, 0, 1, 0]   \n",
    "])\n",
    "\n",
    "# Create an instance of the HamHub class with the defined connectivity.\n",
    "# alpha and beta are interaction parameters.\n",
    "# u_onsite specifies the on-site interaction energies for the sites.\n",
    "hubbard = HamHub(connectivity, alpha=0, beta=-1, u_onsite=np.array([1, 1, 1, 1, 1, 1]))\n",
    "\n",
    "# Generate the zero-body integral.\n",
    "e0 = hubbard.generate_zero_body_integral()\n",
    "\n",
    "# Generate the one-body integral matrix in the spatial orbital basis.\n",
    "h1 = hubbard.generate_one_body_integral(dense=True, basis='spatial basis')\n",
    "\n",
    "# Once the gamma was not provided it will be computed based on the one-body integrals.\n",
    "h2 = hubbard.generate_two_body_integral(dense=True, basis='spatial basis', sym=8)\n",
    "\n",
    "print(\"Zero energy: \", e0)\n",
    "print(\"One body integrals in spatial basis: \\n\", h1)\n",
    "print(\"Shape of two body integral in spatial basis: \", h2.shape)\n",
    "print(\"-\" * 60)\n",
    "\n",
    "# Example: Generating Hubbard model in spin orbital basis\n",
    "# Assuming 8-fold symmetry\n",
    "# Returning output as dense matrix\n",
    "\n",
    "# Generate the one-body integral matrix in the spin orbital basis.\n",
    "h1 = hubbard.generate_one_body_integral(dense=True, basis='spinorbital basis')\n",
    "\n",
    "# Generate the two-body integral tensor in the spin orbital basis, assuming 8-fold symmetry.\n",
    "h2 = hubbard.generate_two_body_integral(dense=True, basis='spinorbital basis', sym=8)\n",
    "\n",
    "print(\"One body integrals in spinorbital basis: \\n\", h1)\n",
    "print(\"Shape of two body integral in spinorbital basis: \", h2.shape)\n"
   ]
  },
  {
   "cell_type": "markdown",
   "metadata": {},
   "source": [
    "## References:\n",
    "\n",
    "[1]A. Orbital Interaction Theory of Organic Chemistry. [s.l.] John Wiley & Sons, 2004.\n",
    "\n",
    "[2] https://en.wikipedia.org/wiki/Electron_affinity_(data_page)"
   ]
  }
 ],
 "metadata": {
  "kernelspec": {
   "display_name": "Python 3",
   "language": "python",
   "name": "python3"
  },
  "language_info": {
   "codemirror_mode": {
    "name": "ipython",
    "version": 3
   },
   "file_extension": ".py",
   "mimetype": "text/x-python",
   "name": "python",
   "nbconvert_exporter": "python",
   "pygments_lexer": "ipython3",
   "version": "3.10.undefined"
  }
 },
 "nbformat": 4,
 "nbformat_minor": 2
}
