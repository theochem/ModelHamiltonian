{
 "cells": [
  {
   "cell_type": "markdown",
   "id": "875c2738",
   "metadata": {
    "id": "875c2738"
   },
   "source": [
    "# Tutorial: Occupation-based Hamiltionians\n",
    "\n",
    "## Introduction\n",
    "The Model Hamiltonian Package is a software tool designed to generate 0, 1, and 2 electron integrals for various quantum models. In this tutorial, we'll focus on generating integrals for the occupation-based hamiltonians, specifically on Hubbard hamiltonian."
   ]
  },
  {
   "cell_type": "markdown",
   "id": "2f54d140",
   "metadata": {},
   "source": [
    "The most general occupation-number Hamiltonian we consider is the generalized Pariser-Parr-Pople (PPP) Hamiltonian, \n",
    "\n",
    "$$\\hat{H}_{\\text{PPP}} = \\sum_{pq} h_{pq} a_p^\\dagger a_q + \\sum_p U_p \\hat{n}_{p\\alpha}\\hat{n}_{p\\beta} + \\frac{1}{2}\\sum_{p\\ne q} \\gamma_{pq} (\\hat{n}_{p \\alpha} + \\hat{n}_{p \\beta} - Q_p)(\\hat{n}_{q \\alpha} + \\hat{n}_{q \\beta} - Q_q) $$\n",
    "\n",
    "The first terms, $h_{pq}$, could be anything, but are usually approximated at the level of [H&uuml;ckel theory](https://github.com/theochem/ModelHamiltonian/blob/main/docs/notes/huckel-model-hamiltonian.md). (In the solid-state literature, these are usually denoted $h_{pq} = t_{pq}$.) The $U_p$ term denotes the repulsion of electrons on the same atom/group site, whilst the $\\gamma_{pq}$ term denotes the interaction between electrons and (possibly charged; usually $Q_p = 1$ so that the net charge of a system with one electron per site is zero) and other sites (including electrons on those sites). The $g_{pq}$ term captures interactions between electron pairs; the $g_{pq}$ term is redundant with the on-site repulsion, $g_{pp} = U_p$. \n",
    "\n",
    "In ModelHamiltonian package we support some special cases of this Hamiltonian:\n",
    "- **Hubbard.** The [Hubbard model](https://github.com/theochem/ModelHamiltonian/blob/main/docs/notes/hubbard-model-hamiltonian.pdf) corresponds to choosing $\\gamma_{pq} = 0$. It can be invoked by choosing `gamma = 0`. \n",
    "- **H&uuml;ckle.** [The H&uuml;ckle model](https://github.com/theochem/ModelHamiltonian/blob/main/docs/notes/huckel-model-hamiltonian.md) corresponds to choosing $U_p = \\gamma_{pq} = 0$. It can be invoked by choosing `U_onsite = 0` and `gamma = 0`. "
   ]
  },
  {
   "cell_type": "markdown",
   "id": "cb00b545",
   "metadata": {},
   "source": [
    "## Example: Defining Hubbard Hamiltonian\n",
    "There are two ways to define any occupation-based hamiltonian using the Model Hamiltonian Package:\n",
    "1. Using the connectivity matrix of the lattice\n",
    "2. Prividing connectivity as a list of tuples, in which atoms are specified along with connectivity type\n",
    "\n",
    "Any occupation-base model requires energy of the orbital, $\\alpha$, and interaction energy between nearest orbitals, $\\beta$. By default, the energy of the orbital is set to -0.414 eV that corresponds to the energy of electron in a 2p orbital, and the interaction energy is set to -0.0533 eV that corresponds to the interaction energy between nearest 2p orbitals."
   ]
  },
  {
   "cell_type": "code",
   "execution_count": 1,
   "id": "36ebc326",
   "metadata": {},
   "outputs": [],
   "source": [
    "# import libraries\n",
    "from moha import HamHub\n",
    "import numpy as np\n",
    "\n",
    "# First way to define the Hamiltonian\n",
    "# two site Hubbard model\n",
    "\n",
    "# system = [('C1', 'C2', 1)] is a list of tuples, where each tuple represents a bond\n",
    "# between two atoms and the third element is the type of bond (singe or double).\n",
    "# For now, we only support single bonds between carbon atoms. \n",
    "# For this type of bonds the default values of alpha and beta are -0.414 and -0.0533, respectively.\n",
    "# In the future we are planning to support different types of bonds for different atoms.\n",
    "system = [('C1', 'C2', 1)]\n",
    "hubbard = HamHub(system,\n",
    "                 alpha=-0.414, beta=-0.0533, u_onsite=np.array([1, 1]))\n",
    "\n",
    "# Second way to define the Hamiltonian\n",
    "# two site Hubbard model\n",
    "connectivity = np.array([[0, 1],\n",
    "                         [1, 0]])\n",
    "hubbard = HamHub(connectivity,\n",
    "                 alpha=-0.414, beta=-0.0533, u_onsite=np.array([1, 1]))"
   ]
  },
  {
   "cell_type": "markdown",
   "id": "58ca55f1",
   "metadata": {},
   "source": [
    "## Generating Integrals\n",
    "The Model Hamiltonian Package can generate 0, 1, and 2 electron integrals for the PPP model Hamiltonian. The integrals are stored in a sparse matrix format, and can be used to solve the Schrödinger equation for the model.\n",
    "Specifically, the integrals support the following operations:\n",
    "1. Get the 0, 1, and 2 electron integrals for the PPP model;\n",
    "2. Return intergrals in the form of a sparse or dense matrix;\n",
    "3. Return integrals in a spin orbital or spatial basis; \n",
    "\n",
    "   __Note__ : Assumption is alpha and beta spinorbitals are the same;\n",
    "4. Support 1-, 2-, 4- , and 8-fold symmetry such as:\n",
    "\n",
    "    a. 1-fold symmetry: no symmetry;\n",
    "    \n",
    "    b. 2-fold symmetry: \n",
    "\n",
    "    $$g_{ij,kl} = g_{kl,ij}$$\n",
    "\n",
    "    c. 4-fold symmetry: \n",
    "\n",
    "    $$g_{ij,kl} = g_{kl,ij} = g_{ji,lk} = g_{lk,ji}$$\n",
    "\n",
    "    d. 8-fold symmetry: \n",
    "\n",
    "    $$g_{ij,kl} = g_{kl,ij} = g_{ji,lk} = g_{lk,ji} = g_{ji,kl} = g_{kl,ji} = g_{ij,lk} = g_{lk,ij}$$\n",
    "    "
   ]
  },
  {
   "cell_type": "code",
   "execution_count": 2,
   "id": "21b6dc5e",
   "metadata": {},
   "outputs": [
    {
     "name": "stdout",
     "output_type": "stream",
     "text": [
      "Zero energy:  0\n",
      "One body integrals in spatial basis: \n",
      " [[ 0. -1.  0.  0.  0. -1.]\n",
      " [-1.  0. -1.  0.  0.  0.]\n",
      " [ 0. -1.  0. -1.  0.  0.]\n",
      " [ 0.  0. -1.  0. -1.  0.]\n",
      " [ 0.  0.  0. -1.  0. -1.]\n",
      " [-1.  0.  0.  0. -1.  0.]]\n",
      "Shape of two body integral in spatial basis:  (6, 6, 6, 6)\n",
      "------------------------------------------------------------\n",
      "One body integrals in spin basis: \n",
      " [[ 0. -1.  0.  0.  0. -1.  0.  0.  0.  0.  0.  0.]\n",
      " [-1.  0. -1.  0.  0.  0.  0.  0.  0.  0.  0.  0.]\n",
      " [ 0. -1.  0. -1.  0.  0.  0.  0.  0.  0.  0.  0.]\n",
      " [ 0.  0. -1.  0. -1.  0.  0.  0.  0.  0.  0.  0.]\n",
      " [ 0.  0.  0. -1.  0. -1.  0.  0.  0.  0.  0.  0.]\n",
      " [-1.  0.  0.  0. -1.  0.  0.  0.  0.  0.  0.  0.]\n",
      " [ 0.  0.  0.  0.  0.  0.  0. -1.  0.  0.  0. -1.]\n",
      " [ 0.  0.  0.  0.  0.  0. -1.  0. -1.  0.  0.  0.]\n",
      " [ 0.  0.  0.  0.  0.  0.  0. -1.  0. -1.  0.  0.]\n",
      " [ 0.  0.  0.  0.  0.  0.  0.  0. -1.  0. -1.  0.]\n",
      " [ 0.  0.  0.  0.  0.  0.  0.  0.  0. -1.  0. -1.]\n",
      " [ 0.  0.  0.  0.  0.  0. -1.  0.  0.  0. -1.  0.]]\n",
      "Shape of two body integral in spinorbital basis:  (12, 12, 12, 12)\n"
     ]
    }
   ],
   "source": [
    "# Example: generating 6 site Hubbard model \n",
    "# Returning electron integrals in a spatial orbital basis\n",
    "# Assuming 8-fold symmetry\n",
    "# Returning output as dense matrix\n",
    "\n",
    "connectivity = np.array([[0, 1, 0, 0, 0, 1],\n",
    "                         [1, 0, 1, 0, 0, 0],\n",
    "                         [0, 1, 0, 1, 0, 0],\n",
    "                         [0, 0, 1, 0, 1, 0],\n",
    "                         [0, 0, 0, 1, 0, 1],\n",
    "                         [1, 0, 0, 0, 1, 0]])\n",
    "hubbard = HamHub(connectivity,\n",
    "                 alpha=0, \n",
    "                 beta=-1, \n",
    "                 u_onsite=np.array([1, 1, 1, 1, 1, 1]))\n",
    "\n",
    "e0 = hubbard.generate_zero_body_integral()\n",
    "h1 = hubbard.generate_one_body_integral(dense=True, basis='spatial basis') \n",
    "h2 = hubbard.generate_two_body_integral(dense=True, basis='spatial basis', sym=8)\n",
    "\n",
    "print(\"Zero energy: \", e0)\n",
    "print(\"One body integrals in spatial basis: \\n\", h1)\n",
    "print(\"Shape of two body integral in spatial basis: \", h2.shape)\n",
    "print(\"-\"*60)\n",
    "\n",
    "# Example: generating Hubbard model in spin orbital basis\n",
    "# Assuming 8-fold symmetry\n",
    "# Returning output as dense matrix\n",
    "\n",
    "h1 = hubbard.generate_one_body_integral(dense=True, basis='spinorbital basis')\n",
    "h2 = hubbard.generate_two_body_integral(dense=True, basis='spinorbital basis', sym=4)\n",
    "\n",
    "print(\"One body integrals in spin basis: \\n\", h1)\n",
    "print(\"Shape of two body integral in spinorbital basis: \", h2.shape)"
   ]
  },
  {
   "cell_type": "markdown",
   "id": "a0f294d6",
   "metadata": {},
   "source": [
    "## Example: Building Integrals from SMILES\n",
    "\n",
    "In this example, we will generate the integrals for the Hubbard and Huckel models using the Model Hamiltonian Package and RDKit.\n",
    "RDKit will be used to generate the connectivity matrix of the molecule, which will be used to generate the integrals for the Hubbard and Huckel models.\n",
    "\n",
    "Consider napthalene molecule as an example. We will use SMILE to generate the integrals for the Hubbard and Huckel models for this molecule.\n",
    "For the Hubbard model, we will set the on-site repulsion to $10.84 eV$ according to [Mataga-Nishimoto](https://www.degruyter.com/document/doi/10.1524/zpch.1957.13.3_4.140/html?lang=en) prescription and $\\beta = -2.5 eV$"
   ]
  },
  {
   "cell_type": "code",
   "execution_count": 3,
   "id": "680a3d13",
   "metadata": {},
   "outputs": [],
   "source": [
    "from rdkit.Chem import MolFromSmiles, rdmolops\n",
    "\n",
    "# generate a molecule from SMILES\n",
    "mol = MolFromSmiles('C1=CC=C2C=CC=CC2=C1')\n",
    "# generate the connectivity matrix\n",
    "connectivity = rdmolops.GetAdjacencyMatrix(mol)\n",
    "\n",
    "# generate the Hamiltonian\n",
    "# generating Huckel model\n",
    "huckel = HamHub(connectivity, alpha=-0.414, beta=-0.0533)\n",
    "e0_huck = huckel.generate_zero_body_integral()\n",
    "h1_huck = huckel.generate_one_body_integral(dense=True, basis='spatial basis')\n",
    "h2_huck = huckel.generate_two_body_integral(dense=True, basis='spatial basis', sym=4)\n",
    "\n",
    "# generate Hubbard model\n",
    "# setting on-site repulsion to 10.84 eV for each atom. \n",
    "U = 10.84 * np.ones(connectivity.shape[0])\n",
    "hubbard = HamHub(connectivity, alpha=0, beta=-1,\n",
    "                 u_onsite=U)\n",
    "e0_hub = hubbard.generate_zero_body_integral()\n",
    "h1_hub = hubbard.generate_one_body_integral(dense=True, basis='spatial basis')\n",
    "h2_hub = hubbard.generate_two_body_integral(dense=True, basis='spatial basis', sym=4)"
   ]
  },
  {
   "cell_type": "markdown",
   "id": "55b7e2b9",
   "metadata": {},
   "source": [
    "# Testing the Hubbard model\n",
    "\n",
    "To test the ouput of the ModelHamiltoian package, we can solve the Schrödinger equation using Full CI algorithm fron the `pyscf` package.\n",
    "\n",
    "[It can be shown](https://arxiv.org/pdf/cond-mat/0207529.pdf) that ground state energy in the half-filled one dimensional Hubbard model in the thermodynamic limit is given by Lieb-Wu formula:\n",
    "\n",
    "$$\n",
    "E_0=-4 N \\int_0^{\\infty} \\frac{J_0(\\omega) J_1(\\omega)}{\\omega\\left(1+e^{\\omega U / 2}\\right)} d \\omega\n",
    "$$\n",
    "\n",
    "where $N$ is the number of electrons in the chain, $J_0$ and $J_1$ are Bessel functions of the first kind, and $U$ is the on-site repulsion.\n",
    "\n",
    "In this section, we will test the convergence of the ground state energy of the Hubbard model with the number of sites in the chain. We will compute the ground state energy obtained from the Model Hamiltonian Package with Full CI algorithm in the `pyscf` package with."
   ]
  },
  {
   "cell_type": "code",
   "execution_count": 4,
   "id": "b29c77cf",
   "metadata": {},
   "outputs": [
    {
     "name": "stdout",
     "output_type": "stream",
     "text": [
      "Energy given by Lieb-Wu formula:  -1.040368653394435\n",
      "Error of integration:  8.67591249968029e-11\n"
     ]
    }
   ],
   "source": [
    "# Computing the energy using the Lieb-Wu formula\n",
    "from scipy.integrate import quad\n",
    "from scipy.special import *\n",
    "\n",
    "U = []\n",
    "E_LW = []\n",
    "\n",
    "for Ui in np.linspace(1,10,6):\n",
    "    Ei, err = quad(lambda x: j0(x) * j1(x) / (x * (1 + np.exp(Ui * x / 2))),0, 100)\n",
    "    U.append(Ui)\n",
    "    E_LW.append(-4*Ei)\n",
    "\n",
    "print(\"Energy given by Lieb-Wu formula: \", E_LW[0])\n",
    "print(\"Error of integration: \", err)"
   ]
  },
  {
   "cell_type": "markdown",
   "id": "4459394a",
   "metadata": {},
   "source": [
    "### Building hamiltonians with ModelHamiltonian Package and solving the Schrödinger equation with Full CI algorithm"
   ]
  },
  {
   "cell_type": "code",
   "execution_count": 5,
   "id": "8f87778c",
   "metadata": {},
   "outputs": [],
   "source": [
    "import numpy as np\n",
    "import matplotlib.pyplot as plt\n",
    "from pyscf import fci\n",
    "\n",
    "\n",
    "\n",
    "E = []\n",
    "norbs = np.linspace(2, 8, 4).astype(int)\n",
    "for norb in norbs:\n",
    "    nelec = (norb//2,norb//2)\n",
    "    \n",
    "    U=[]\n",
    "    E_tmp=[]\n",
    "    for Ui in np.linspace(1,10,6):\n",
    "        # defining the system\n",
    "        hubbard = HamHub([(f\"C{i}\", f\"C{i + 1}\", 1) for i in range(1, norb)] + [(f\"C{norb}\", f\"C{1}\", 1)],\n",
    "                      alpha=0, beta=-1,\n",
    "                      u_onsite=np.array([Ui for i in range(norb + 1)]))\n",
    "        h1 = hubbard.generate_one_body_integral(basis='spatial basis', dense=True)\n",
    "        h2 = hubbard.generate_two_body_integral(basis='spatial basis', dense=True, sym=4)\n",
    "        \n",
    "        ### calculating spectrum\n",
    "        e, fcivec = fci.direct_spin1.kernel(h1, 2 * h2, norb, nelec, nroots=5,\n",
    "                                            max_space=30, max_cycle=100)\n",
    "        U.append(Ui)\n",
    "        E_tmp.append(e[0])\n",
    "    E.append(E_tmp)"
   ]
  },
  {
   "cell_type": "code",
   "execution_count": 6,
   "id": "e9f96129",
   "metadata": {},
   "outputs": [
    {
     "data": {
      "image/png": "[encoded data removed]",
      "text/plain": [
       "<Figure size 960x720 with 1 Axes>"
      ]
     },
     "metadata": {},
     "output_type": "display_data"
    }
   ],
   "source": [
    "# plotting\n",
    "plt.figure(dpi=150)\n",
    "\n",
    "for e, norb in zip(E, norbs):\n",
    "    plt.plot(U , np.array(e)/norb, 'o', label=f\"N={norb}\", mfc='none', markersize=8)\n",
    "\n",
    "plt.plot(U, E_LW, '*', markersize=5, c='r', label='N=$\\infty$')\n",
    "\n",
    "plt.legend()\n",
    "plt.ylabel(\"E/N\")\n",
    "plt.xlabel(\"U\")\n",
    "\n",
    "plt.title(\"Lieb-Wu Solution and FCI Solutions for Finite Systems\")\n",
    "plt.show();"
   ]
  },
  {
   "cell_type": "markdown",
   "id": "8c5f92b3",
   "metadata": {},
   "source": [
    "## Saving the output of the ModelHamiltonian Package\n",
    "\n",
    "Once we have generated the integrals using Model Hamiltonian, we can save the output in a file. This will allow us to use the integrals later without regenerating them.\n",
    "\n",
    "There are two supported file formats:\n",
    "1. `.fcidump`\n",
    "\n",
    "    In this case the integrals are saved in the FCIDUMP format. User needs to provide a TextIO file, for example `open(\"<filename>\", 'w')` or string that corresponds to a filename, e.g `\"<filename>\"` , number of electron and spinpolarization. The lates is set to 0 by default.\n",
    "2. `.npz file`\n",
    "\n",
    "    In this case the integrals are saved in .npz file format. User needs to provide a filename or TextIO object, for example `open(\"<filename>\", 'wb')`. Energy shift, one-, and two-electron integrals are saved under the keys `e0`, `h1` and `h2` respectively.\n"
   ]
  },
  {
   "cell_type": "code",
   "execution_count": 7,
   "id": "80867ad4",
   "metadata": {},
   "outputs": [],
   "source": [
    "# Example: generating 6 site Hubbard model\n",
    "# Returning electron integrals in a spatial orbital basis\n",
    "# Assuming 4-fold symmetry\n",
    "norb = 4\n",
    "hubbard = HamHub([(f\"C{i}\", f\"C{i + 1}\", 1) for i in range(1, norb)] + [(f\"C{norb}\", f\"C{1}\", 1)],\n",
    "                      alpha=0, beta=-1,\n",
    "                      u_onsite=np.array([Ui for i in range(norb + 1)]))\n",
    "e0 = hubbard.generate_zero_body_integral()\n",
    "h1 = hubbard.generate_one_body_integral(basis='spatial basis', dense=True)\n",
    "h2 = hubbard.generate_two_body_integral(basis='spatial basis', dense=True, sym=4)\n",
    "        \n",
    "# saving the integrals as a npz file\n",
    "hubbard.savez(open('hubbard_6_obj', 'wb'))\n",
    "# saving the integrals as fcidump file\n",
    "hubbard.save_fcidump('hubbard_6_site_str.fcidump', nelec=6)"
   ]
  }
 ],
 "metadata": {
  "colab": {
   "collapsed_sections": [],
   "name": "Demonstration.ipynb",
   "provenance": []
  },
  "kernelspec": {
   "display_name": "base",
   "language": "python",
   "name": "python3"
  },
  "language_info": {
   "codemirror_mode": {
    "name": "ipython",
    "version": 3
   },
   "file_extension": ".py",
   "mimetype": "text/x-python",
   "name": "python",
   "nbconvert_exporter": "python",
   "pygments_lexer": "ipython3",
   "version": "3.11.5"
  }
 },
 "nbformat": 4,
 "nbformat_minor": 5
}
