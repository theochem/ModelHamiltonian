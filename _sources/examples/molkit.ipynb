{
 "cells": [
  {
   "cell_type": "markdown",
   "metadata": {},
   "source": [
    "# Tutorial: Molkit\n",
    "\n",
    "## Introduction\n",
    "This tutorial will be focus in tools available in the new ModelHamiltonian module to manipulate molecular hamiltonians."
   ]
  },
  {
   "cell_type": "markdown",
   "metadata": {},
   "source": [
    "### 1. Instantiating a Molecular Hamiltonian"
   ]
  },
  {
   "cell_type": "code",
   "execution_count": 1,
   "metadata": {},
   "outputs": [
    {
     "name": "stdout",
     "output_type": "stream",
     "text": [
      "<moha.molkit.hamiltonians.MolHam object at 0x7f7a91a24130>\n"
     ]
    },
    {
     "name": "stderr",
     "output_type": "stream",
     "text": [
      "/Users/valeriichuiko/Desktop/projects/ModelHamiltonian/moha/molkit/hamiltonians.py:176: UserWarning: Duplicate entries in the FCIDUMP file are ignored\n",
      "  data = load_fcidump(open(path))\n"
     ]
    }
   ],
   "source": [
    "import numpy as np\n",
    "from moha import HamHeisenberg\n",
    "from moha.molkit.hamiltonians import MolHam\n",
    "from moha.molkit.utils.tools import to_geminal\n",
    "\n",
    "# load a hamiltonian from the fcidump file\n",
    "hami = MolHam()\n",
    "hami.from_fcidump('example.fcidump')\n",
    "print(hami)"
   ]
  },
  {
   "cell_type": "markdown",
   "metadata": {},
   "source": [
    "### 2. Converting the Hamiltonian to the Spin-Orbital Basis\n",
    "\n",
    "You can easily perform this conversion by using the `spinize_H` method, which returns the one-body and two-body integrals in the spin-orbital basis.\n",
    "\n",
    "#### Conversion Rules\n",
    "\n",
    "- *One-body term:*\n",
    "  - The spatial one-body integral is mapped to the spin-orbital basis as:\n",
    "    - $h_{pq}^{\\alpha\\alpha} = h_{pq}^{\\beta\\beta} = h_{pq}^{\\text{spatial}}$\n",
    "    - $h_{pq}^{\\alpha\\beta} = h_{pq}^{\\beta\\alpha} = 0$\n",
    "\n",
    "- *Two-body term:*\n",
    "  - The spatial two-body integral is mapped as:\n",
    "    - $V_{pqrs}^{\\alpha\\alpha\\alpha\\alpha} = V_{pqrs}^{\\alpha\\beta\\alpha\\beta} = V_{pqrs}^{\\beta\\alpha\\beta\\alpha} = V_{pqrs}^{\\text{spatial}}$"
   ]
  },
  {
   "cell_type": "code",
   "execution_count": 2,
   "metadata": {},
   "outputs": [
    {
     "name": "stdout",
     "output_type": "stream",
     "text": [
      "Shape of one-body integrals (spin basis):\n",
      " (8, 8)\n",
      "Shape of two-body integrals (spin basis):\n",
      " (8, 8, 8, 8)\n"
     ]
    }
   ],
   "source": [
    "one_body_spin, two_body_spin = hami.spinize_H()\n",
    "print(\"Shape of one-body integrals (spin basis):\\n\", one_body_spin.shape)\n",
    "print(\"Shape of two-body integrals (spin basis):\\n\", two_body_spin.shape)"
   ]
  },
  {
   "cell_type": "markdown",
   "metadata": {},
   "source": [
    "### 3. Antisymmetrizing the Two-Electron Integrals\n",
    "\n",
    "You can apply proper antisymmetrization to the two-electron integrals using the `antisymmetrize` method. \n",
    "\n",
    "This ensures the integrals obey the required permutation symmetry for fermionsm following the rule:\n",
    "$V_{pqrs} = -V_{pqsr} = -V_{qprs} = V_{qpsr}$"
   ]
  },
  {
   "cell_type": "code",
   "execution_count": 3,
   "metadata": {},
   "outputs": [
    {
     "name": "stdout",
     "output_type": "stream",
     "text": [
      "Elements 0, 1, 0, 1 and 1, 0, 0, 1 of aaaa part:\n",
      " 0.1544687847893533 -0.1544687847893533\n",
      "--------------------\n",
      "Elements 0, 1, 0, 1 and 1, 0, 0, 1 of abab part:\n",
      " 0.3187342023639616 0.1642654175746083\n",
      "--------------------\n",
      "Elements 0, 0, 1, 1 for aaaa and abab parts:\n",
      " 0.0 0.1642654175746083\n"
     ]
    }
   ],
   "source": [
    "hami.antisymmetrize()\n",
    "hami.two_body_spin[0, 1, 0, 1]\n",
    "two_body_aaaa = hami.get_spin_blocks()['aaaa']\n",
    "two_body_abab = hami.get_spin_blocks()['abab']\n",
    "\n",
    "print(\"Elements 0, 1, 0, 1 and 1, 0, 0, 1 of aaaa part:\\n\", two_body_aaaa[0, 1, 0, 1], two_body_aaaa[1, 0, 0, 1])\n",
    "print(\"--\"*10)\n",
    "print(\"Elements 0, 1, 0, 1 and 1, 0, 0, 1 of abab part:\\n\", two_body_abab[0, 1, 0, 1], two_body_abab[1, 0, 0, 1])\n",
    "print(\"--\"*10)\n",
    "print(\"Elements 0, 0, 1, 1 for aaaa and abab parts:\\n\", two_body_aaaa[0, 0, 1, 1], two_body_abab[0, 0, 1, 1])"
   ]
  },
  {
   "cell_type": "markdown",
   "metadata": {},
   "source": [
    "### 4. Converting the Two-Body Term to the Geminal Basis\n",
    "\n",
    "The `to_geminal` function in the utils module converts the two-body term from the spin-orbital basis to the geminal basis.  \n",
    "You can specify the type of two-body term: `'h2'` (Hamiltonian) ; we also added conversion to the geminal basis for reduced density matrices: `'rdm2'`.\n",
    "\n",
    "The Hamiltonian in the geminal basis is obtained by the following formula:\n",
    "$V_{A B} =\\frac{1}{2}\\left(V_{p q r s}-V_{q p r s}-V_{p q r s}+V_{qprs}\\right)$\n"
   ]
  },
  {
   "cell_type": "code",
   "execution_count": 4,
   "metadata": {},
   "outputs": [],
   "source": [
    "geminal = to_geminal(two_body_spin, type='h2')"
   ]
  },
  {
   "cell_type": "markdown",
   "metadata": {},
   "source": [
    "### 5. Constructing the Reduced 4-Index Hamiltonian Tensor\n",
    "\n",
    "The `to_reduced` method returns the reduced 4-index Hamiltonian tensor $k_{pqrs}$ in the spin-orbital basis, given the number of electrons $N$.\n",
    "\n",
    "#### Formula\n",
    "\n",
    "$$\n",
    "k_{pqrs} = \\frac{1}{2(N-1)} \\left( h_{pq} \\delta_{rs} + h_{rs} \\delta_{pq} \\right) + \\frac{1}{2} V_{pqrs}\n",
    "$$\n",
    "\n",
    "where:\n",
    "- $h_{pq}$: one-electron integrals (spin-orbital basis)\n",
    "- $V_{pqrs}$: two-electron integrals (spin-orbital basis)\n",
    "- $\\delta_{pq}$: Kronecker delta"
   ]
  },
  {
   "cell_type": "code",
   "execution_count": 5,
   "metadata": {},
   "outputs": [
    {
     "name": "stdout",
     "output_type": "stream",
     "text": [
      "(8, 8, 8, 8)\n"
     ]
    }
   ],
   "source": [
    "reduced = hami.to_reduced(n_elec=4)\n",
    "print(reduced.shape)"
   ]
  },
  {
   "cell_type": "markdown",
   "metadata": {},
   "source": [
    "### 6. Extracting Spin Blocks from the Two-Body Spin-Orbital Tensor\n",
    "\n",
    "After converting the Hamiltonian to the spin-orbital basis, you can extract the main spin blocks from the two-body tensor using the `get_spin_blocks` method, by accesing the dictionaries keys: 'aaaa', 'bbbb', 'abab'"
   ]
  },
  {
   "cell_type": "code",
   "execution_count": 6,
   "metadata": {},
   "outputs": [
    {
     "name": "stdout",
     "output_type": "stream",
     "text": [
      "dict_keys(['aaaa', 'bbbb', 'abab'])\n"
     ]
    }
   ],
   "source": [
    "spin_blocks = hami.get_spin_blocks()\n",
    "print(spin_blocks.keys())"
   ]
  },
  {
   "cell_type": "markdown",
   "metadata": {},
   "source": [
    "### 7. Computing Energy of a system\n",
    "\n",
    "In this section, we will compute the ground-state energy of a toy molecular system using the Full Configuration Interaction (FCI) method using the `pyscf` library.\n",
    "\n",
    "1. Perform an FCI calculation to obtain the wavefunction and reduced density matrices (RDMs).\n",
    "\n",
    "1. Compute the energy using both spin-orbital and geminal representations to verify consistency."
   ]
  },
  {
   "cell_type": "code",
   "execution_count": 7,
   "metadata": {},
   "outputs": [
    {
     "name": "stdout",
     "output_type": "stream",
     "text": [
      "E_spin-orbital : -3.0622781536522004\n",
      "E_geminal      : -3.0622781536522012\n",
      "FCI energy     : -3.062278153652201\n"
     ]
    }
   ],
   "source": [
    "from pyscf import fci\n",
    "from moha.molkit.utils.tools import to_geminal\n",
    "\n",
    "# One-electron integrals (spatial orbital basis)\n",
    "h1 = hami.one_body\n",
    "h2 = hami.two_body\n",
    "core_energy = hami.zero_body\n",
    "\n",
    "N_ELEC, norb  = 4, hami.n_spatial\n",
    "\n",
    "# Perform Full CI calculation\n",
    "e_fci, ci_vec = fci.direct_spin1.kernel(h1, np.einsum('pqrs -> prqs', h2), norb, N_ELEC, ecore=core_energy, tol=1e-12)\n",
    "rdm1s, rdm2s = fci.direct_spin1.make_rdm12s(ci_vec, norb, N_ELEC)\n",
    "\n",
    "# construct 2-rdm\n",
    "rdm2s_new = np.zeros((8, 8, 8, 8))\n",
    "for i in range(4):\n",
    "    for j in range(4):\n",
    "        for k in range(4):\n",
    "            for l in range(4):\n",
    "                rdm2s_new[i, j, k, l] = rdm2s[0][i, k, j, l] # aaaa\n",
    "                rdm2s_new[i+4, j+4, k+4, l+4] = rdm2s[2][i, k, j, l] #bbbb\n",
    "                rdm2s_new[i, j+4, k, l+4] = rdm2s[1][i, k, j, l] #abab\n",
    "                rdm2s_new[i+4, j, k+4, l] = rdm2s[1][i, k, j, l] #baba\n",
    "\n",
    "\n",
    "\n",
    "# Convert to reduced form\n",
    "H = hami.to_reduced(n_elec=N_ELEC)  # H = 0.5 * (h \\outer h)/(N - 1) + 0.5 * V\n",
    "# Compute the energy in the MO basis\n",
    "E_spin = np.sum(H * rdm2s_new)\n",
    "\n",
    "# Convert to geminal form\n",
    "H_gem = to_geminal(H, type='h2')\n",
    "rdm_gem = to_geminal(rdm2s_new, type='rdm2')\n",
    "\n",
    "# Energy from geminal formulation\n",
    "E_gem = np.einsum('pq,pq', H_gem, rdm_gem)\n",
    "\n",
    "# Print the energies from all formulations\n",
    "print(\"E_spin-orbital :\", E_spin)\n",
    "print(\"E_geminal      :\", E_gem)\n",
    "print(\"FCI energy     :\", e_fci - core_energy)\n",
    "assert np.allclose(E_spin, E_gem), \"Energies do not match!\"\n",
    "assert np.allclose(E_spin, e_fci - core_energy), \"Energies do not match!\""
   ]
  }
 ],
 "metadata": {
  "kernelspec": {
   "display_name": "base",
   "language": "python",
   "name": "python3"
  },
  "language_info": {
   "codemirror_mode": {
    "name": "ipython",
    "version": 3
   },
   "file_extension": ".py",
   "mimetype": "text/x-python",
   "name": "python",
   "nbconvert_exporter": "python",
   "pygments_lexer": "ipython3",
   "version": "3.9.7"
  }
 },
 "nbformat": 4,
 "nbformat_minor": 2
}
