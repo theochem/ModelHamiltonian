{
 "cells": [
  {
   "cell_type": "markdown",
   "metadata": {},
   "source": [
    "# Tutorial: Richardson-Gaudin model"
   ]
  },
  {
   "cell_type": "markdown",
   "metadata": {},
   "source": [
    "This tutorial demonstrates how to use the Richardson-Gaudin model with the ModelHamiltonian package.\n",
    "Specifically, it shows how to set up the connectivity matrix and perform the FCI calculation using the pyscf library.\n",
    "\n",
    "The primary focus of this tutorial, however, it to demostrate the flexibility behind the Model Hamiltonin package. To do so, we will show how to use this library to build a Richardson Model that's given by:\n",
    "\n",
    "$$\n",
    "\\hat{H}_{B C S}=\\frac{1}{2} \\sum_{i=1}^N \\varepsilon_i\\left(a_{i \\uparrow}^{\\dagger} a_{1 \\uparrow}+a_{i \\downarrow}^{\\dagger} a_{i \\downarrow}\\right)-\\frac{g}{2} \\sum_{i, j=1}^N a_{i \\uparrow}^{\\dagger} a_{i \\downarrow}^{\\dagger} a_{j \\downarrow} a_{j \\uparrow}\n",
    "$$\n",
    "\n",
    "This definition is given in a [paper](https://arxiv.org/pdf/2506.09379) and can be used to validate numerical results that were kindly provided by [Paul Johnson](https://paul-a-johnson.fsg.ulaval.ca/en)."
   ]
  },
  {
   "cell_type": "markdown",
   "metadata": {},
   "source": [
    "# 1. Match the definition\n",
    "\n",
    "In our case, we define the Richardson model as follows:\n",
    "\n",
    "$$\n",
    "\\hat{H}_{R G}=\\sum_p\\left(\\mu_p^Z-J_{p p}^{\\mathrm{eq}}\\right) S_p^Z+\\sum_{p q} J_{p q}^{\\mathrm{eq}} S_p^{+} S_q^{-}\n",
    "$$\n",
    "\n",
    "To match the above definition we need to move around some of the terms. Skipping the details, we can match the definition by setting the following parameters:\n",
    "\n",
    "$$\n",
    "\\begin{align*}\n",
    "\\mu_p &= \\varepsilon_p + J_{p p}^{\\mathrm{eq}} \\\\\n",
    "J_{p q}^{\\mathrm{eq}} &= -\\frac{g}{2} \\\\\n",
    "\\end{align*}\n",
    "$$\n",
    "\n",
    "# 2. Provided data\n",
    "For the values of $\\varepsilon_i$ = [0, 1, 2, 3, 4, 5] and ground state energy of 6 electron system, the following data was provided by the author:\n",
    "\n",
    "| g (unitless)      | Energy (unitless)  |\n",
    "| ----------------- | -------------- |\n",
    "| 3.536             | -14.20687553   |\n",
    "| 460.5454545454545 | -2755.77652711 |\n",
    "| 120.8888888888889 | -717.84780933  |\n",
    "| 8.182             | -41.80555486   |\n",
    "| 6.869             | -33.96821191   |\n",
    "| 480.5252525252525 | -2875.655157   |\n",
    "| 5.556             | -26.14992638   |\n",
    "| 1.011             | -0.14612126    |\n",
    "| 6.263             | -30.35668599   |\n",
    "| 4.849             | -21.95332479   |\n"
   ]
  },
  {
   "cell_type": "markdown",
   "metadata": {},
   "source": [
    "# Calculation"
   ]
  },
  {
   "cell_type": "code",
   "execution_count": 1,
   "metadata": {},
   "outputs": [
    {
     "name": "stdout",
     "output_type": "stream",
     "text": [
      "|       g |       Energy |     Computed |   Error |\n",
      "|---------|--------------|--------------|---------|\n",
      "|   3.536 |   -14.2069   |   -14.2069   |       0 |\n",
      "| 460.545 | -2755.78     | -2755.78     |       0 |\n",
      "| 120.889 |  -717.848    |  -717.848    |       0 |\n",
      "|   8.182 |   -41.8056   |   -41.8056   |       0 |\n",
      "|   6.869 |   -33.9682   |   -33.9682   |       0 |\n",
      "| 480.525 | -2875.66     | -2875.66     |       0 |\n",
      "|   5.556 |   -26.1499   |   -26.1499   |       0 |\n",
      "|   1.011 |    -0.146121 |    -0.146121 |       0 |\n",
      "|   6.263 |   -30.3567   |   -30.3567   |       0 |\n",
      "|   4.849 |   -21.9533   |   -21.9533   |       0 |\n"
     ]
    }
   ],
   "source": [
    "import numpy as np\n",
    "from moha.hamiltonians import HamRG\n",
    "from pyscf import fci\n",
    "from tabulate import tabulate\n",
    "\n",
    "# Define the connectivity matrix assuming a fully connected system\n",
    "connectivity = np.ones((6, 6))\n",
    "g_values = [\n",
    "    3.536,\n",
    "    460.5454545454545,\n",
    "    120.88888888888889,\n",
    "    8.182,\n",
    "    6.869000000000001,\n",
    "    480.52525252525254,\n",
    "    5.556000000000001,\n",
    "    1.011,\n",
    "    6.263000000000001,\n",
    "    4.849000000000001\n",
    "]\n",
    "\n",
    "energy_values = [\n",
    "    -14.20687553,\n",
    "    -2755.77652711,\n",
    "    -717.84780933,\n",
    "    -41.80555486,\n",
    "    -33.96821191,\n",
    "    -2875.655157,\n",
    "    -26.14992638,\n",
    "    -0.14612126,\n",
    "    -30.35668599,\n",
    "    -21.95332479\n",
    "]\n",
    "energy_computed = []\n",
    "eps = np.arange(6)\n",
    "# Create the Richardson-Gaudin Hamiltonian\n",
    "for g in g_values:\n",
    "    # convert parameters to match the definition\n",
    "    J = -g / 2\n",
    "    mu = eps + J   \n",
    "\n",
    "    # Create the Hamiltonian\n",
    "    ham = HamRG(J_eq = J*connectivity,\n",
    "                mu = mu)\n",
    "    e0 = ham.generate_zero_body_integral()\n",
    "\n",
    "    h1 = ham.generate_one_body_integral(dense=True, basis='spatial basis')\n",
    "    h2 = ham.generate_two_body_integral(dense=True, basis='spatial basis', sym=4)\n",
    "\n",
    "    # convert to chemists notation\n",
    "    h2_ch = np.einsum('ijkl->ikjl', h2)\n",
    "\n",
    "\n",
    "    n_sites = 6\n",
    "    occ = (n_sites//2, n_sites//2)\n",
    "\n",
    "    # Solve the FCI problem\n",
    "    e, ci = fci.direct_spin0.kernel(1*h1, 2*h2_ch, nelec=occ, norb=n_sites, nroots=6, ecore=0)\n",
    "    energy_computed.append(e[0])\n",
    "\n",
    "# Print the results in a table format\n",
    "\n",
    "table_data = []\n",
    "for g, energy, computed in zip(g_values, energy_values, energy_computed):\n",
    "    error = abs(computed - energy)\n",
    "    table_data.append([f\"{g:.3f}\", f\"{energy:.6f}\", f\"{computed:.6f}\", f\"{error:.6f}\"])\n",
    "\n",
    "headers = [\"g\", \"Energy\", \"Computed\", \"Error\"]\n",
    "print(tabulate(table_data, headers=headers, tablefmt=\"github\"))"
   ]
  }
 ],
 "metadata": {
  "kernelspec": {
   "display_name": "base",
   "language": "python",
   "name": "python3"
  },
  "language_info": {
   "codemirror_mode": {
    "name": "ipython",
    "version": 3
   },
   "file_extension": ".py",
   "mimetype": "text/x-python",
   "name": "python",
   "nbconvert_exporter": "python",
   "pygments_lexer": "ipython3",
   "version": "3.9.7"
  }
 },
 "nbformat": 4,
 "nbformat_minor": 2
}
