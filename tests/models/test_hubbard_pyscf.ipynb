{
 "cells": [
  {
   "cell_type": "code",
   "execution_count": 1,
   "metadata": {},
   "outputs": [],
   "source": [
    "import numpy as np\n",
    "from pyscf import fci"
   ]
  },
  {
   "cell_type": "markdown",
   "metadata": {},
   "source": [
    "Exact"
   ]
  },
  {
   "cell_type": "code",
   "execution_count": 5,
   "metadata": {},
   "outputs": [
    {
     "name": "stdout",
     "output_type": "stream",
     "text": [
      "-1.040368653394435\n",
      "8.675909540485985e-11\n"
     ]
    },
    {
     "name": "stderr",
     "output_type": "stream",
     "text": [
      "/opt/conda/lib/python3.7/site-packages/ipykernel_launcher.py:8: RuntimeWarning: overflow encountered in exp\n",
      "  \n"
     ]
    }
   ],
   "source": [
    "from scipy.integrate import quad\n",
    "from scipy.special import *\n",
    "\n",
    "U = []\n",
    "E_LW = []\n",
    "\n",
    "for Ui in np.linspace(1,10,6):\n",
    "    Ei, err = quad(lambda x: j0(x) * j1(x) / (x * (1 + np.exp(Ui * x / 2))),0, 200)\n",
    "    U.append(Ui)\n",
    "    E_LW.append(-4*Ei)\n",
    "\n",
    "print(E_LW[0])\n",
    "print(err)"
   ]
  },
  {
   "cell_type": "code",
   "execution_count": 38,
   "metadata": {},
   "outputs": [
    {
     "data": {
      "text/plain": [
       "Text(0.5, 1.0, 'Lieb-Wu Solution for the Hubbard Model')"
      ]
     },
     "execution_count": 38,
     "metadata": {},
     "output_type": "execute_result"
    },
    {
     "data": {
      "image/png": "[encoded data removed]",
      "text/plain": [
       "<Figure size 432x288 with 1 Axes>"
      ]
     },
     "metadata": {
      "needs_background": "light"
     },
     "output_type": "display_data"
    }
   ],
   "source": [
    "import matplotlib.pyplot as plt\n",
    "plt.plot(U,E_LW,'ok')\n",
    "plt.ylabel(\"E/N\")\n",
    "plt.xlabel(\"U\")\n",
    "plt.title(\"Lieb-Wu Solution for the Hubbard Model\")"
   ]
  },
  {
   "cell_type": "code",
   "execution_count": 27,
   "metadata": {},
   "outputs": [
    {
     "name": "stdout",
     "output_type": "stream",
     "text": [
      "U=1:\n",
      "energy -1.561552812808828\n"
     ]
    }
   ],
   "source": [
    "\"\"\" 2 site hubbard model with 2 electrons. Should return U=\\frac{1}{2}\\left[U-\\sqrt{U^{2}+16 t^{2}}\\right]$\n",
    "numerical result is -1.561552812 \"\"\"\n",
    "\n",
    "#numpy.random.seed(1)\n",
    "norb = 2\n",
    "nelec = (1,1)\n",
    "\n",
    "h1 = np.zeros([norb,norb])\n",
    "h1[(1,0)] = -1.0\n",
    "\n",
    "h1 = h1 + h1.T\n",
    "\n",
    "U=[]\n",
    "E2=[]\n",
    "for Ui in np.linspace(1,10,6):\n",
    "    h2 = np.zeros((norb,norb,norb,norb))\n",
    "    h2[(0,0,0,0)] = Ui\n",
    "    h2[(1,1,1,1)] = Ui\n",
    "    \n",
    "    H_fci = fci.direct_spin1.pspace(h1, h2, norb, nelec, np=4)[1]\n",
    "    e_all, v_all = np.linalg.eigh(H_fci)\n",
    "    \n",
    "    e, fcivec = fci.direct_spin1.kernel(h1, h2, norb, nelec, nroots=40,\n",
    "                                        max_space=30, max_cycle=100)\n",
    "    U.append(Ui)\n",
    "    E2.append(e[0])\n",
    "\n",
    "print('U=1:')\n",
    "print('energy', E2[0])"
   ]
  },
  {
   "cell_type": "code",
   "execution_count": 22,
   "metadata": {},
   "outputs": [
    {
     "name": "stdout",
     "output_type": "stream",
     "text": [
      "[[ 0. -1.  0.  0.  0.  0.  0. -1.]\n",
      " [-1.  0. -1.  0.  0.  0.  0.  0.]\n",
      " [ 0. -1.  0. -1.  0.  0.  0.  0.]\n",
      " [ 0.  0. -1.  0. -1.  0.  0.  0.]\n",
      " [ 0.  0.  0. -1.  0. -1.  0.  0.]\n",
      " [ 0.  0.  0.  0. -1.  0. -1.  0.]\n",
      " [ 0.  0.  0.  0.  0. -1.  0. -1.]\n",
      " [-1.  0.  0.  0.  0.  0. -1.  0.]]\n"
     ]
    }
   ],
   "source": [
    "#numpy.random.seed(1)\n",
    "norb = 8\n",
    "nelec = (norb//2,norb//2)\n",
    "\n",
    "h1 = np.zeros([norb,norb])\n",
    "for n in range(norb):\n",
    "    h1[(n,(n+1)%norb)] = -1.0\n",
    "\n",
    "h1 = h1 + h1.T\n",
    "print(h1)\n",
    "U=[]\n",
    "E8=[]\n",
    "for Ui in np.linspace(1,10,6):\n",
    "    h2 = np.zeros((norb,norb,norb,norb))\n",
    "    for n in range(norb):\n",
    "        h2[(n,n,n,n)] = Ui\n",
    "    \n",
    "    H_fci = fci.direct_spin1.pspace(h1, h2, norb, nelec, np=4)[1]\n",
    "    e_all, v_all = np.linalg.eigh(H_fci)\n",
    "    \n",
    "    e, fcivec = fci.direct_spin1.kernel(h1, h2, norb, nelec, nroots=10,\n",
    "                                        max_space=30, max_cycle=100)\n",
    "    U.append(Ui)\n",
    "    E8.append(e[0])"
   ]
  },
  {
   "cell_type": "code",
   "execution_count": 40,
   "metadata": {},
   "outputs": [
    {
     "data": {
      "text/plain": [
       "Text(0.5, 1.0, 'Lieb-Wu Solution and FCI Solutions for Finite Systems')"
      ]
     },
     "execution_count": 40,
     "metadata": {},
     "output_type": "execute_result"
    },
    {
     "data": {
      "image/png": "[encoded data removed]",
      "text/plain": [
       "<Figure size 432x288 with 1 Axes>"
      ]
     },
     "metadata": {
      "needs_background": "light"
     },
     "output_type": "display_data"
    }
   ],
   "source": [
    "plt.figure(0)\n",
    "plt.plot(U , np.array(E2)/2 , 'ob')\n",
    "plt.plot(U , np.array(E4)/4 , 'og')\n",
    "plt.plot(U , np.array(E6)/6 , 'or')\n",
    "plt.plot(U , np.array(E8)/8 , 'om')\n",
    "plt.plot(U,E_LW,'ok',markersize=3)\n",
    "\n",
    "plt.legend([\"N=2\",\"N=4\",\"N=6\",\"N=8\",\"N=$\\infty$\"],loc='lower right')\n",
    "plt.ylabel(\"E/N\")\n",
    "plt.xlabel(\"U\")\n",
    "\n",
    "plt.title(\"Lieb-Wu Solution and FCI Solutions for Finite Systems\")"
   ]
  }
 ],
 "metadata": {
  "kernelspec": {
   "display_name": "Python 3",
   "language": "python",
   "name": "python3"
  },
  "language_info": {
   "codemirror_mode": {
    "name": "ipython",
    "version": 3
   },
   "file_extension": ".py",
   "mimetype": "text/x-python",
   "name": "python",
   "nbconvert_exporter": "python",
   "pygments_lexer": "ipython3",
   "version": "3.7.6"
  }
 },
 "nbformat": 4,
 "nbformat_minor": 4
}
