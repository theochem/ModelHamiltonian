{
 "cells": [
  {
   "cell_type": "code",
   "execution_count": 1,
   "metadata": {},
   "outputs": [],
   "source": [
    "import sys\n",
    "sys.path.append('../upd')\n",
    "\n",
    "import numpy as np\n",
    "\n",
    "from Hamiltonian import HamiltonianAPI\n",
    "from Huckel_Hamiltonian import *"
   ]
  },
  {
   "cell_type": "markdown",
   "metadata": {},
   "source": [
    "Initializing dense array"
   ]
  },
  {
   "cell_type": "code",
   "execution_count": 2,
   "metadata": {},
   "outputs": [
    {
     "name": "stdout",
     "output_type": "stream",
     "text": [
      "2 8\n",
      "1\n",
      "7 13\n",
      "1\n"
     ]
    },
    {
     "name": "stderr",
     "output_type": "stream",
     "text": [
      "/opt/conda/lib/python3.7/site-packages/scipy/sparse/_index.py:84: SparseEfficiencyWarning: Changing the sparsity structure of a csr_matrix is expensive. lil_matrix is more efficient.\n",
      "  self._set_intXint(row, col, x.flat[0])\n",
      "/opt/conda/lib/python3.7/site-packages/scipy/sparse/_index.py:126: SparseEfficiencyWarning: Changing the sparsity structure of a csr_matrix is expensive. lil_matrix is more efficient.\n",
      "  self._set_arrayXarray(i, j, x)\n"
     ]
    }
   ],
   "source": [
    "norb = 2\n",
    "nelec = norb\n",
    "hubbard = Hubbard([(f\"C{i}\",f\"C{i+1}\", 1) for i in range(1,norb)], alpha=0, beta=-1,\n",
    "                  u_onsite=np.array([1 for i in range(norb)]))\n",
    "ecore, h, v = hubbard.get_hamilton()"
   ]
  },
  {
   "cell_type": "code",
   "execution_count": 8,
   "metadata": {},
   "outputs": [],
   "source": [
    "from typing import TextIO\n",
    "def save_fcidump(f: TextIO, core_energy, one_ints, two_ints, nelec=0, spinpol=0):\n",
    "        \"\"\"\n",
    "        Save all parts of hamiltonian in fcidump format\n",
    "        Adapted from https://github.com/theochem/iodata/blob/master/iodata/formats/fcidump.py\n",
    "        :param f: TextIO file\n",
    "        :param nelec: The number of electrons in the system\n",
    "        :param spinpol: The spin polarization. By default, its value is derived from the\n",
    "                        molecular orbitals (mo attribute), as abs(nalpha - nbeta). In this case,\n",
    "                        spinpol cannot be set. When no molecular orbitals are present, this\n",
    "                        attribute can be set.\n",
    "        :return: None\n",
    "        \"\"\"\n",
    "        # Write header\n",
    "        nactive = one_ints.shape[0]\n",
    "        print(f' &FCI NORB={nactive:d},NELEC={nelec:d},MS2={spinpol:d},', file=f)\n",
    "        print(f\"  ORBSYM= {','.join('1' for v in range(nactive))},\", file=f)\n",
    "        print('  ISYM=1', file=f)\n",
    "        print(' &END', file=f)\n",
    "\n",
    "        # Write integrals and core energy\n",
    "        #two_ints = self.two_ints\n",
    "        #for i in range(nactive):  # pylint: disable=too-many-nested-blocks\n",
    "        #    for j in range(i + 1):\n",
    "        #        for k in range(nactive):\n",
    "        #            for l in range(k + 1):\n",
    "        #                if (i * (i + 1)) / 2 + j >= (k * (k + 1)) / 2 + l:\n",
    "        #                    if (i, k, j, l) in two_ints:\n",
    "        #                        value = two_ints[(i, k, j, l)]\n",
    "        #                        print(f'{value:23.16e} {i + 1:4d} {j + 1:4d} {k + 1:4d} {l + 1:4d}', file=f)\n",
    "        \n",
    "        for p,q in np.array(two_ints.nonzero()).T:\n",
    "            i,j,k,l = convert_indices(int(np.sqrt(two_ints.shape[0])),int(p), int(q))\n",
    "            if (i * (i + 1)) / 2 + j >= (k * (k + 1)) / 2 + l:\n",
    "                print(f'{two_ints[p,q]:23.16e} {i + 1:4d} {j + 1:4d} {k + 1:4d} {l + 1:4d}', file=f)\n",
    "        \n",
    "        for p,q in np.array(one_ints.nonzero()).T:\n",
    "            print(f'{one_ints[p,q]:23.16e} {p + 1:4d} {q + 1:4d} {0:4d} {0:4d}', file=f)\n",
    "\n",
    "        #core_energy = self.core_energy\n",
    "        #if core_energy is not None:\n",
    "        #    print(f'{core_energy:23.16e} {0:4d} {0:4d} {0:4d} {0:4d}', file=f)"
   ]
  },
  {
   "cell_type": "code",
   "execution_count": 11,
   "metadata": {},
   "outputs": [],
   "source": [
    "filename = \"test.txt\"\n",
    "fout = open(filename, \"w\")\n",
    "save_fcidump(f=fout, core_energy=ecore, one_ints=h, two_ints=v, nelec=2)"
   ]
  },
  {
   "cell_type": "code",
   "execution_count": 6,
   "metadata": {},
   "outputs": [
    {
     "name": "stdout",
     "output_type": "stream",
     "text": [
      "Parsing test.txt\n"
     ]
    },
    {
     "ename": "IndexError",
     "evalue": "index 9 is out of bounds for axis 0 with size 6",
     "output_type": "error",
     "traceback": [
      "\u001b[0;31m\u001b[0m",
      "\u001b[0;31mIndexError\u001b[0mTraceback (most recent call last)",
      "\u001b[0;32m<ipython-input-6-f0c1a7768372>\u001b[0m in \u001b[0;36m<module>\u001b[0;34m\u001b[0m\n\u001b[1;32m      1\u001b[0m \u001b[0;32mfrom\u001b[0m \u001b[0mpyscf\u001b[0m \u001b[0;32mimport\u001b[0m \u001b[0mtools\u001b[0m\u001b[0;34m\u001b[0m\u001b[0;34m\u001b[0m\u001b[0m\n\u001b[0;32m----> 2\u001b[0;31m \u001b[0mtools\u001b[0m\u001b[0;34m.\u001b[0m\u001b[0mfcidump\u001b[0m\u001b[0;34m.\u001b[0m\u001b[0mread\u001b[0m\u001b[0;34m(\u001b[0m\u001b[0mfilename\u001b[0m\u001b[0;34m,\u001b[0m \u001b[0mmolpro_orbsym\u001b[0m\u001b[0;34m=\u001b[0m\u001b[0;32mFalse\u001b[0m\u001b[0;34m)\u001b[0m\u001b[0;34m\u001b[0m\u001b[0;34m\u001b[0m\u001b[0m\n\u001b[0m",
      "\u001b[0;32m/opt/conda/lib/python3.7/site-packages/pyscf/tools/fcidump.py\u001b[0m in \u001b[0;36mread\u001b[0;34m(filename, molpro_orbsym)\u001b[0m\n\u001b[1;32m    299\u001b[0m                 \u001b[0mkl\u001b[0m \u001b[0;34m=\u001b[0m \u001b[0ml\u001b[0m \u001b[0;34m*\u001b[0m \u001b[0;34m(\u001b[0m\u001b[0ml\u001b[0m\u001b[0;34m-\u001b[0m\u001b[0;36m1\u001b[0m\u001b[0;34m)\u001b[0m \u001b[0;34m//\u001b[0m \u001b[0;36m2\u001b[0m \u001b[0;34m+\u001b[0m \u001b[0mk\u001b[0m\u001b[0;34m-\u001b[0m\u001b[0;36m1\u001b[0m\u001b[0;34m\u001b[0m\u001b[0;34m\u001b[0m\u001b[0m\n\u001b[1;32m    300\u001b[0m             \u001b[0;32mif\u001b[0m \u001b[0mij\u001b[0m \u001b[0;34m>=\u001b[0m \u001b[0mkl\u001b[0m\u001b[0;34m:\u001b[0m\u001b[0;34m\u001b[0m\u001b[0;34m\u001b[0m\u001b[0m\n\u001b[0;32m--> 301\u001b[0;31m                 \u001b[0mh2e\u001b[0m\u001b[0;34m[\u001b[0m\u001b[0mij\u001b[0m\u001b[0;34m*\u001b[0m\u001b[0;34m(\u001b[0m\u001b[0mij\u001b[0m\u001b[0;34m+\u001b[0m\u001b[0;36m1\u001b[0m\u001b[0;34m)\u001b[0m\u001b[0;34m//\u001b[0m\u001b[0;36m2\u001b[0m\u001b[0;34m+\u001b[0m\u001b[0mkl\u001b[0m\u001b[0;34m]\u001b[0m \u001b[0;34m=\u001b[0m \u001b[0mfloat\u001b[0m\u001b[0;34m(\u001b[0m\u001b[0mdat\u001b[0m\u001b[0;34m[\u001b[0m\u001b[0;36m0\u001b[0m\u001b[0;34m]\u001b[0m\u001b[0;34m)\u001b[0m\u001b[0;34m\u001b[0m\u001b[0;34m\u001b[0m\u001b[0m\n\u001b[0m\u001b[1;32m    302\u001b[0m             \u001b[0;32melse\u001b[0m\u001b[0;34m:\u001b[0m\u001b[0;34m\u001b[0m\u001b[0;34m\u001b[0m\u001b[0m\n\u001b[1;32m    303\u001b[0m                 \u001b[0mh2e\u001b[0m\u001b[0;34m[\u001b[0m\u001b[0mkl\u001b[0m\u001b[0;34m*\u001b[0m\u001b[0;34m(\u001b[0m\u001b[0mkl\u001b[0m\u001b[0;34m+\u001b[0m\u001b[0;36m1\u001b[0m\u001b[0;34m)\u001b[0m\u001b[0;34m//\u001b[0m\u001b[0;36m2\u001b[0m\u001b[0;34m+\u001b[0m\u001b[0mij\u001b[0m\u001b[0;34m]\u001b[0m \u001b[0;34m=\u001b[0m \u001b[0mfloat\u001b[0m\u001b[0;34m(\u001b[0m\u001b[0mdat\u001b[0m\u001b[0;34m[\u001b[0m\u001b[0;36m0\u001b[0m\u001b[0;34m]\u001b[0m\u001b[0;34m)\u001b[0m\u001b[0;34m\u001b[0m\u001b[0;34m\u001b[0m\u001b[0m\n",
      "\u001b[0;31mIndexError\u001b[0m: index 9 is out of bounds for axis 0 with size 6"
     ]
    }
   ],
   "source": [
    "from pyscf import tools\n",
    "tools.fcidump.read(filename, molpro_orbsym=False)"
   ]
  },
  {
   "cell_type": "code",
   "execution_count": 12,
   "metadata": {},
   "outputs": [
    {
     "name": "stdout",
     "output_type": "stream",
     "text": [
      "Parsing test.txt\n"
     ]
    },
    {
     "data": {
      "text/plain": [
       "{'NORB': 2,\n",
       " 'NELEC': 2,\n",
       " 'MS2': 0,\n",
       " 'ORBSYM': [1, 1],\n",
       " 'ISYM': 1,\n",
       " 'H1': array([[ 0., -1.],\n",
       "        [-1.,  0.]]),\n",
       " 'H2': array([0., 0., 0., 0., 0., 0.])}"
      ]
     },
     "execution_count": 12,
     "metadata": {},
     "output_type": "execute_result"
    }
   ],
   "source": [
    "from pyscf import tools\n",
    "tools.fcidump.read(filename, molpro_orbsym=False)"
   ]
  }
 ],
 "metadata": {
  "kernelspec": {
   "display_name": "Python 3",
   "language": "python",
   "name": "python3"
  },
  "language_info": {
   "codemirror_mode": {
    "name": "ipython",
    "version": 3
   },
   "file_extension": ".py",
   "mimetype": "text/x-python",
   "name": "python",
   "nbconvert_exporter": "python",
   "pygments_lexer": "ipython3",
   "version": "3.7.6"
  }
 },
 "nbformat": 4,
 "nbformat_minor": 5
}
